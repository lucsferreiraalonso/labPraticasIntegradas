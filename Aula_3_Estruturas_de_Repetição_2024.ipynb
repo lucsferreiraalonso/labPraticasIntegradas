{
  "nbformat": 4,
  "nbformat_minor": 0,
  "metadata": {
    "colab": {
      "provenance": [],
      "include_colab_link": true
    },
    "kernelspec": {
      "name": "python3",
      "display_name": "Python 3"
    },
    "language_info": {
      "name": "python"
    }
  },
  "cells": [
    {
      "cell_type": "markdown",
      "metadata": {
        "id": "view-in-github",
        "colab_type": "text"
      },
      "source": [
        "<a href=\"https://colab.research.google.com/github/lucsferreiraalonso/labPraticasIntegradas/blob/main/Aula_3_Estruturas_de_Repeti%C3%A7%C3%A3o_2024.ipynb\" target=\"_parent\"><img src=\"https://colab.research.google.com/assets/colab-badge.svg\" alt=\"Open In Colab\"/></a>"
      ]
    },
    {
      "cell_type": "markdown",
      "source": [
        "# Aula 3 - Estruturas de Repetição\n",
        "\n",
        "Relembrando...\n",
        "\n",
        "Para construir algoritmos completos e eficientes é preciso aprender controlar o fluxo de instruções de um programa:\n",
        "\n",
        "- **Estrutura Sequencial:** Executar um conjunto de instruções serialmente, uma após a outra.\n",
        "\n",
        "- **Estruturas de decisão:** Testar condições e valores de variáveis e objetos de um programa e tomar ações a partir desses resultados\n",
        "\n",
        "- **Estruturas de repetição:** Controlar o fluxo de um programa para repetir atividades até que uma condição seja satisfeita\n",
        "\n",
        "# 1. Estruturas de Repetição\n",
        "\n",
        "Também conhecidas como “laços” de repetição, estas estruturas servem para repetir conjuntos de instruções\n",
        "\n",
        "Podem ser de dois tipos:\n",
        "\n",
        "- **Laços enumeráveis**: Repetem um conjunto de instruções por um número de vezes definido e finito\n",
        "  - *“Repita 10 vezes”*\n",
        "\n",
        "- **Laços não enumeráveis:** Repetem um conjunto de instruções quantas vezes necessário até que uma condição seja atendida\n",
        "  - *“Enquanto não acontecer algo, repita..”*\n",
        "\n",
        "\n",
        "## 1.1 Estrutura de repetição enumerável ( for )\n",
        "\n",
        "Implementação da estrutura de repetição algorítmica:\n",
        "\n",
        "```\n",
        "PARA i = 0 ATÉ 10 PASSO 1 FAÇA:\n",
        "  Início\n",
        "    //intruções\n",
        "  Fim\n",
        "```\n",
        "\n",
        "Em Python, é implementada pela estrutura ***for***:\n",
        "\n",
        "````\n",
        "for i in range(10):\n",
        "\t#bloco de instruções a ser repetido\n",
        "````\n",
        "\n",
        "Surgem questões preliminares:\n",
        "- O que é i?\n",
        "- O que é range()\n",
        "\n",
        "### O que é *i* ?\n",
        "\n",
        "\"i\" é uma variável chamada de *“iterador”*.\n",
        "\n",
        "Instanciada durante a declaração do for, é responsável por controlar qual o número da iteração que está sendo executada a cada repetição do bloco de instruções associado ao for. Ou seja, controla em qual \"vez\" (repetição) o laço está executando.\n",
        "\n",
        "Note que poderia se chamar como qualquer outra variável:\n",
        "*i, j, k, n, m, it, x, y* ... Porém historicamente a variável iteradora geralemnte é chamada de de \"i\", seguida de \"j\", \"k\", etc.\n",
        "\n",
        "\n",
        "### O que é range()?\n",
        "\n",
        "Função nativa do python usada para gerar uma **sequência de iteradores**, ou seja, valores para i.\n",
        "\n",
        "#### Sintaxe da função range():\n",
        "\n",
        "**Importante saber:** Toda função em python pode ter parâmetros obrigatórios e parâmetros opcionais que se não preenchidos são disparados com valores padrão.\n",
        "\n",
        "````\n",
        "range(<valor_inicial>,<valor_final+1>,<passo>)\n",
        "````\n",
        "sendo que:\n",
        "\n",
        "- **valor_inicial:** opcional. vale 0 por padrão;\n",
        "- **valor_final:** obrigatório. valor final da sequência. a iteração vai até ele (sempre adicione mais 1).\n",
        "  - exemplo: range(10): vai do 0 ao 9\n",
        "- **passo:** opcional. vale 1 por padrão\n",
        "\n",
        "Um pouco sobre a função range:\n",
        "\n"
      ],
      "metadata": {
        "id": "XW5MhJyQ0CVV"
      }
    },
    {
      "cell_type": "code",
      "source": [
        "#Uso da função range()\n",
        "print(list(range(10))) #0,1,2,3,4,5,6,7,8,9\n",
        "print(list(range(2,10))) #2,3,4,5,6,7,8,9\n",
        "print(list(range(0,10,2))) #0,2,4,6,8\n",
        "print(list(range(1,10,2))) #1,3,5,7,9\n",
        "print(list(range(3,-10,-3))) #3, 0, -3, -6, -9"
      ],
      "metadata": {
        "id": "_a8Qwjr45aoa"
      },
      "execution_count": null,
      "outputs": []
    },
    {
      "cell_type": "markdown",
      "source": [
        "\n",
        "Após esta breve, explicação sobre a função *range*, podemos explorar o comando ***for***.\n",
        "\n",
        "### Sintaxe do comando for:\n",
        "````\n",
        "for <item> in <seq>:\n",
        "\t#instruções que operam sobre <item> e outras variáveis\n",
        "````\n",
        "\n",
        "É importante saber que o comando for sempre itera sempre sobre sequências,\n",
        "sejam elas numéricas (usando range) como também em listas, strings, etc.\n",
        "\n",
        "Neste ponto, vamos focar em sequências numéricas:\n",
        "\n",
        "Podemos aplicar um bloco de instruções sobre um número definido de valores:\n",
        "\n",
        "#Exemplo: tabuada de n\n"
      ],
      "metadata": {
        "id": "e9CFvsOP5bto"
      }
    },
    {
      "cell_type": "code",
      "source": [
        "#tabuada de um número n lido pelo usuário:\n",
        "\n",
        "n = int(input('Digite o valor que deseja saber a tabuada:'))\n",
        "for i in range(11):\n",
        "  mult = i*n\n",
        "  print('{} x {} = {}'.format(n,i,mult))"
      ],
      "metadata": {
        "id": "-w8IA4GF7Yhv"
      },
      "execution_count": null,
      "outputs": []
    },
    {
      "cell_type": "markdown",
      "source": [
        "\n",
        "Podemos também associar um *for* a uma **variável acumuladora**.\n",
        "\n",
        "- **variável acumuladora**: Variável utilizada para acumular valores parciais ao longo de um algoritmo.\n",
        "\n",
        "#Exemplo: média 0 a 1000\n",
        "\n"
      ],
      "metadata": {
        "id": "63c-6GKK7ZOj"
      }
    },
    {
      "cell_type": "code",
      "source": [
        "#média da soma de 0 a 1000\n",
        "\n",
        "soma = 0 #variável acumuladora\n",
        "#acumulando a soma com o for\n",
        "for i in range(1001):\n",
        "  soma = soma+i\n",
        "  print(\"acumulado:{}\".format(soma))\n",
        "\n",
        "#imprimindo a soma total após o for\n",
        "print(f\"somatório total:{soma}\")\n",
        "#calculando a média\n",
        "media = soma/1001 #0 a 1000 -> 1001 elementos\n",
        "#imprimindo a média\n",
        "print(f\"Média:{media}\")"
      ],
      "metadata": {
        "id": "2sY4Npqj8sFm"
      },
      "execution_count": null,
      "outputs": []
    },
    {
      "cell_type": "markdown",
      "source": [
        "Podemos usar uma repetição em associação com estruturas de decisão para fazer “filtragens”...\n",
        "\n",
        "#Exemplo: maior múltiplo de 13 até 1000\n"
      ],
      "metadata": {
        "id": "wsYoH7098tbc"
      }
    },
    {
      "cell_type": "code",
      "source": [
        "#maior múltiplo de 13 até 1000\n",
        "\n",
        "mult = 13\n",
        "for n in range(1000):\n",
        "\tif (n%13 == 0):           #se n é divisível por 13\n",
        "\t\tmult = n                #maior múltiplo é o n atual\n",
        "\n",
        "print(f\"Maior múltiplo de 13 entre 0 e 1000 é {mult}\")"
      ],
      "metadata": {
        "id": "jpSo6hTS9nuJ"
      },
      "execution_count": null,
      "outputs": []
    },
    {
      "cell_type": "markdown",
      "source": [
        "\n",
        "\n",
        "# 1.2 Estrutura de repetição não-enumerável ( while )\n",
        "\n",
        "Utilizada para quando não podemos determinar de pronto o número de vezes que um bloco de instruções será executado.\n",
        "\n",
        "Geralmente deverá executar até que uma condição seja satisfeita.\n",
        "\n",
        "Sintaxe algorítmica:\n",
        "````\n",
        "ENQUANTO (<condição>) FAÇA:\n",
        "  Início\n",
        "    <bloco de instruções>\n",
        "  Fim\n",
        "`````\n",
        "\n",
        "Sintaxe do comando ***while*** em Python:\n",
        "\n",
        "````\n",
        "while (<condição>):\n",
        "\t#bloco de instruções a serem executadas enquanto a condição for verdadeira\n",
        "````\n",
        "\n",
        "Existe uma série de usos mais comuns para a estrutura *while*:\n",
        "\n",
        "- Validar entradas de usuário, forçando a digitar a entrada no formato desejado para que o programa continue\n",
        "- Executar o mesmo bloco até o acontecimento de um evento.\n",
        "- Executar um bloco indefinidamente\n",
        "\n",
        "# Exemplo: Até que o usuário digite o que desejamos\n",
        "\n"
      ],
      "metadata": {
        "id": "YaXobZfv9n81"
      }
    },
    {
      "cell_type": "code",
      "source": [
        "n = input(\"Digite 'oi' :\")\n",
        "while (n != 'oi'):\n",
        "\tn = input(\"Entrada inválida! Digite 'oi': \")"
      ],
      "metadata": {
        "id": "czFrj9HJAF1q"
      },
      "execution_count": null,
      "outputs": []
    },
    {
      "cell_type": "markdown",
      "source": [
        "\n",
        "# Exemplo: multiplicar por 2 até n ser maior que 10000\n"
      ],
      "metadata": {
        "id": "59LOBfcXAGCx"
      }
    },
    {
      "cell_type": "code",
      "source": [
        "#dobra indefinidamente o valor de n até que passe de 10000\n",
        "n=1\n",
        "while(n<10000):\n",
        "  print(n)\n",
        "  n = n*2"
      ],
      "metadata": {
        "id": "gPscXh7tApUC"
      },
      "execution_count": null,
      "outputs": []
    },
    {
      "cell_type": "markdown",
      "source": [
        "# 2. Os comandos \"break\" e \"continue\"\n",
        "\n",
        "#### *“-Beleza professor, mas vamos supor que eu estou procurando um valor em uma sequência de 0 a 100000, depois de achar preciso percorrer todo resto da sequência?”*\n",
        "#### *“-Seria possível “quebrar” as repetições assim que uma condição fosse atendida?\"*\n",
        "#### *“-Seria possível pular uma iteração que não fosse interessante pra mim sem executar todas as instruções, continuando a partir da próxima iteração?\"*\n",
        "\n",
        "Os comandos **break** e **continue** são utilizados para alterar o fluxo normal de instruções dentro de um laço.\n",
        "\n",
        "- **break:** Usado para interromper o laço inteiro\n",
        "  - Ao usar break o laço para de executar e “mata” a execução\n",
        "\n",
        "- **continue:** Usado para interromper apenas uma iteração.\n",
        "  - todos os comandos da iteração existentes após o *continue* são “pulados” e o programa passa para a próxima iteração do laço\n",
        "\n",
        "# Exemplos dos comandos break e continue\n"
      ],
      "metadata": {
        "id": "MV_JA9YwAphD"
      }
    },
    {
      "cell_type": "code",
      "source": [
        "print(\"Exemplo break, for:\")\n",
        "for x in range(10):\n",
        "  if x == 5:\n",
        "\t  break\n",
        "  print(\"o valor é {}\".format(x))\n",
        "\n",
        "print(\"\\nExemplo continue, for\")\n",
        "for x in range(10):\n",
        "  if x == 4 or x == 6:\n",
        "    continue\n",
        "  print(\"o valor é {}\".format(x))\n",
        "\n",
        "print(\"\\nExemplo break, while:\")\n",
        "while True:\n",
        "\tn = input(\"Digite 'oi' :\")\n",
        "\tif n == 'oi':\n",
        "\t\tbreak"
      ],
      "metadata": {
        "id": "4xdMXQrgEYeV"
      },
      "execution_count": null,
      "outputs": []
    },
    {
      "cell_type": "markdown",
      "source": [
        "# 3. Cláusula \"*else*\" para um laço de repetição\n",
        "\n",
        "\n",
        "Em python, é possível adicionar uma cláusula ***else*** para um laço repetição.\n",
        "\n",
        "A cláusula *else* de um laço de repetição é executada desde que a interação do laço chegue ao fim sem que haja um disparo do comando ***break*** que interrompa a execução do laço\n",
        "- Ou seja, se percorrer o laço todo sem executar um \"break\", executa o \"else\".\n",
        "\n",
        "# Exemplo de cláusula else para um laço de repetição\n"
      ],
      "metadata": {
        "id": "-EPyE_gyEYrz"
      }
    },
    {
      "cell_type": "code",
      "source": [
        "#múltiplos de 63 no intervalo\n",
        "\n",
        "a = int(input(\"Digite um valor inteiro 'a':\"))\n",
        "b = int(input(\"Digite um valor inteiro 'b' > 'a':\"))\n",
        "for  item in range(a,b+1):\n",
        "\tif item%69==0:\n",
        "\t\tprint(f\"múltiplo de 63 detectado: {item}\")\n",
        "\t\tbreak\n",
        "else:\n",
        "\tprint (\"não existe múltiplo de 69 no intervalo\")"
      ],
      "metadata": {
        "id": "jqVuntMzG6qV"
      },
      "execution_count": null,
      "outputs": []
    },
    {
      "cell_type": "markdown",
      "source": [
        "\n",
        "1. Note que no exemplo o *else* pertence ao comando *for* e não ao *if*, pois está indentado no mesmo nível que o *for*!.\n",
        "\n",
        "2. Note também que se não existir comando *break*, o *else* sempre será executado!\n",
        "\n",
        "Exercícios para praticar:\n",
        "\n",
        "https://wiki.python.org.br/EstruturaDeRepeticao\n",
        "\n",
        "\n"
      ],
      "metadata": {
        "id": "oll5N-KLG67K"
      }
    },
    {
      "cell_type": "markdown",
      "source": [
        "---\n",
        "AVISO:Esse material foi produzido por Prof. Me. Diogo Tavares da Silva e é de sua inteira responsabilidade e propriedade intelectual. Caso queira utilizar ou adaptar em suas aulas, por favor, não deixe de dar os créditos."
      ],
      "metadata": {
        "id": "MNfyONVnIdXm"
      }
    }
  ]
}