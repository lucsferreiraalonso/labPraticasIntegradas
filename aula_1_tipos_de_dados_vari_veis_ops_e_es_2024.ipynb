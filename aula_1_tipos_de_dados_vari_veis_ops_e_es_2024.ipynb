{
  "nbformat": 4,
  "nbformat_minor": 0,
  "metadata": {
    "colab": {
      "provenance": [],
      "include_colab_link": true
    },
    "kernelspec": {
      "name": "python3",
      "display_name": "Python 3"
    },
    "language_info": {
      "name": "python"
    }
  },
  "cells": [
    {
      "cell_type": "markdown",
      "metadata": {
        "id": "view-in-github",
        "colab_type": "text"
      },
      "source": [
        "<a href=\"https://colab.research.google.com/github/lucsferreiraalonso/labPraticasIntegradas/blob/main/aula_1_tipos_de_dados_vari_veis_ops_e_es_2024.ipynb\" target=\"_parent\"><img src=\"https://colab.research.google.com/assets/colab-badge.svg\" alt=\"Open In Colab\"/></a>"
      ]
    },
    {
      "cell_type": "code",
      "source": [
        "nome = input(\"Digite seu nome:\")\n",
        "print(\"Olá, \"+nome+\". Bem vindo ao nosso curso de Python\")"
      ],
      "metadata": {
        "id": "HEo9qnCwpkAS",
        "colab": {
          "base_uri": "https://localhost:8080/"
        },
        "outputId": "752b4415-b0d8-4f0d-9597-a8e6333d1bd6"
      },
      "execution_count": null,
      "outputs": [
        {
          "output_type": "stream",
          "name": "stdout",
          "text": [
            "Digite seu nome:Diogo\n",
            "Olá, Diogo. Bem vindo ao nosso curso de Python\n"
          ]
        }
      ]
    },
    {
      "cell_type": "markdown",
      "source": [
        "***\n",
        "# Aula 1\n",
        "Olá, esta é a nossa aula inicial de python! Nesta aula iremos abordar os seguintes tópicos:\n",
        "\n",
        "*   Variáveis\n",
        "*   Tipos de dados\n",
        "*   Operação de atribuição\n",
        "*   Operadores lógico-aritméticos\n",
        "*   Comandos de entrada e saída"
      ],
      "metadata": {
        "id": "_7S1T1_7sJlS"
      }
    },
    {
      "cell_type": "markdown",
      "source": [
        "***\n",
        "#1. Variável\n",
        "Variável é uma referência a um espaço de memória onde você, como programador, está armazenando dados\n",
        "\n",
        "Pode ser tanto uma espaço único de memória, como um conjunto de espaços:\n"
      ],
      "metadata": {
        "id": "tNtYA8tjtPUq"
      }
    },
    {
      "cell_type": "code",
      "source": [
        "var = 12\n",
        "print(var)\n",
        "#abrir um arquivo com nome lido do usuário somente leitura apartir de uma variável chamada arq\n",
        "\n"
      ],
      "metadata": {
        "id": "RjHlkGjXoEu-",
        "colab": {
          "base_uri": "https://localhost:8080/"
        },
        "outputId": "6c9481b9-89c7-4a56-abcd-0a4dddd75b27"
      },
      "execution_count": null,
      "outputs": [
        {
          "output_type": "stream",
          "name": "stdout",
          "text": [
            "12\n"
          ]
        }
      ]
    },
    {
      "cell_type": "markdown",
      "source": [
        "No caso, o interpretador da linguagem reservou um espaço na memória do computador pertencente ao seu programa e salvou o valor inteiro 12 que pode ser acessado e modificado pela referência “var”"
      ],
      "metadata": {
        "id": "LXfvX3BroOZ4"
      }
    },
    {
      "cell_type": "markdown",
      "source": [
        "##1.1 Dando nomes para variáveis\n",
        "\n",
        "É boa prática de programação atribuir um nome para a variável que se relaciona ao seu uso no programa\n",
        "\n",
        "É boa prática de programação em **python** usar nomes simples ou compostos separados pelo “_”.\n",
        "\n",
        "O nome deste padrão de nomeção é snake_case\n",
        "\n",
        "* exemplos:\n",
        "  *  idade\n",
        "  *  nome_cliente\n",
        "  *  vendas_por_dia\n",
        "  *  data_compra\n"
      ],
      "metadata": {
        "id": "1yuciPu8ohHn"
      }
    },
    {
      "cell_type": "markdown",
      "source": [
        "***\n",
        "#2.Tipos de dados\n",
        "##2.1 Tipos básicos de dados\n",
        "\n",
        "Tipos básicos de dados são os tipos de dados oferecidos por uma linguagem nativamente\n",
        "\n",
        "Em Python esses tipos são chamados de *“built-ins”*, que são, na prática, todos os tipos de dados simples e compostos que já vem implementados pela linguagem.\n",
        "\n",
        "Dividem-se em dois tipos principais:\n",
        "\n",
        "\n",
        "*   Tipos de dados simples\n",
        "*   Tipos de dados compostos\n",
        "\n",
        "Analisaremos ao longo do curso cada um deles com mais detalhamento.\n",
        "\n",
        "##2.2 Tipos de dados simples\n",
        "\n",
        "Utilizados para representar uma única unidade de informação.\n",
        "\n",
        "Pode ser de três tipos principalmente:\n",
        "\n",
        "*   Tipo numérico;\n",
        "*   Tipo literal;\n",
        "*   Tipo lógico;\n",
        "\n",
        "###2.2.1 Tipo de dados numéricos\n",
        "\n",
        "Principalmente três implementações:\n",
        "\n",
        "*   **Tipo inteiro:** Representado pelo tipo \"***int***\". Utilizado para representar valores inteiros positivos e negativos\n",
        "*   **Tipo real (\"Ponto flutuante\"):** Representado pelo tipo \"***float***\". Utilizado para representar valores reais (números com casas decimais).\n",
        "* **Tipo Complexo:** Representado pelo tipo \"***complex***\". Utilizado para representar números complexos (Que possuem uma parte real e uma imaginária).\n",
        "\n",
        "\n",
        "\n"
      ],
      "metadata": {
        "id": "X7YrVk6mqMP9"
      }
    },
    {
      "cell_type": "code",
      "source": [
        "num_int = 10\n",
        "int_neg = -56\n",
        "num_real = 34.6\n",
        "PI = 3.141516 #constantes geralmente nomeadas em maiúsculo\n",
        "n_complex = 2+3j\n",
        "\n",
        "print(type(num_int))\n",
        "print(type(int_neg))\n",
        "print(type(num_real))\n",
        "print(type(PI))\n",
        "print(type(n_complex))"
      ],
      "metadata": {
        "id": "Gto4hZlotWqn",
        "outputId": "c15c80f5-2947-4791-e272-f0ad3f8ce849",
        "colab": {
          "base_uri": "https://localhost:8080/"
        }
      },
      "execution_count": null,
      "outputs": [
        {
          "output_type": "stream",
          "name": "stdout",
          "text": [
            "<class 'int'>\n",
            "<class 'int'>\n",
            "<class 'float'>\n",
            "<class 'float'>\n",
            "<class 'complex'>\n"
          ]
        }
      ]
    },
    {
      "cell_type": "markdown",
      "source": [
        "\n",
        "###2.2.2 Tipo de dado literal\n",
        "\n",
        "Tipo de dado utilizado para armazenar informações textuais.\n",
        "\n",
        "Representado pelo tipo \"***str***\".\n",
        "\n",
        "Pode assumir valores textuais entre aspas simples ou duplas (no caso de strings de linha única) ou aspas triplas (no caso de strings multilinha)."
      ],
      "metadata": {
        "id": "YQnHk_9wt4tI"
      }
    },
    {
      "cell_type": "code",
      "source": [
        "brinquedo = 'bola'\n",
        "outro_brinq = \"carrinho\"\n",
        "poema = '''A minha terra tem palmeiras\n",
        "onde canta o sabiá\n",
        "As aves que aqui gorgeiam\n",
        "Não gorgeiam como lá'''"
      ],
      "metadata": {
        "id": "JCkBYSO5uLYv"
      },
      "execution_count": null,
      "outputs": []
    },
    {
      "cell_type": "markdown",
      "source": [
        "###2.2.2 Tipo de dado lógico\n",
        "\n",
        "Tipo de dado utilizado para armazenar valores lógicos (verdadeiro ou falso).\n",
        "\n",
        "Representado pelo tipo \"***bool***\".\n",
        "\n",
        "Pode assumir os valores \"True\" (verdadeiro) ou \"False\" (falso)."
      ],
      "metadata": {
        "id": "YcjLdchLuhWk"
      }
    },
    {
      "cell_type": "code",
      "source": [
        "tem_aula = True\n",
        "hj_eh_feriado = False"
      ],
      "metadata": {
        "id": "hLy-qbSru4zc"
      },
      "execution_count": null,
      "outputs": []
    },
    {
      "cell_type": "markdown",
      "source": [
        "##2.3 Tipos de dados compostos\n",
        "\n",
        "Utilizados para armazenar coleções de dados, ao invés de apenas valores individuais\n",
        "\n",
        "Neste curso trabalharemos principalmente com três tipos principais de dados compostos:\n",
        "\n",
        "\n",
        "\n",
        "1.   Listas\n",
        "2.   Tuplas\n",
        "3.  Dicionários\n",
        "\n",
        "Nos aprofundaremos em cada tipo posteriormente.\n",
        "\n",
        "Por agora fiquemos com um exemplo de lista, representado pelo tipo \"***list***\". Em que os valores dos elementos estão dentro de colchetes \"[ ]\", separados por vírgulas.\n",
        "\n",
        "\n",
        "\n"
      ],
      "metadata": {
        "id": "sf-nFAeGwCZp"
      }
    },
    {
      "cell_type": "code",
      "source": [
        "lista_int = [1,2,3,4] #lista de inteiros\n",
        "lista_float = [1.2, 3.4, 5,6] #lista de valores reais\n",
        "lista_str = [\"a\",\"ab\",\"b\",\"o\"] #lista de strings\n",
        "lista_mista = [1, 1.1, \"bola\", lista_int] #lista de tipos mistos\n",
        "lista_de_listas = [lista_int,lista_float,lista_str] #lista de listas\n"
      ],
      "metadata": {
        "id": "V2swNNk5wyqq"
      },
      "execution_count": null,
      "outputs": []
    },
    {
      "cell_type": "markdown",
      "source": [
        "##2.4 A função *type()*\n",
        "\n",
        "Uma coisa que já ficou perceptível em nossos exemplos é que python possui **tipagem dinâmica**, isto é, não é necessário declarar o valor da variável.\n",
        "\n",
        "Como saber então qual o tipo assumido pela linguagem quando declaramos um variável?\n",
        "\n",
        "R: Por meio da função *type()*\n"
      ],
      "metadata": {
        "id": "Aij52Br2xdsi"
      }
    },
    {
      "cell_type": "code",
      "source": [
        "#testando o tipo das variáveis já declaradas ao longo da aula:\n",
        "print(num_int)\n",
        "print(type(num_int))\n",
        "\n",
        "print(num_real)\n",
        "print(type(num_real))\n",
        "\n",
        "print(n_complex)\n",
        "print(type(n_complex))\n",
        "\n",
        "print(brinquedo)\n",
        "print(type(brinquedo))\n",
        "\n",
        "print(tem_aula)\n",
        "print(type(tem_aula))\n",
        "\n",
        "print(lista_int)\n",
        "print(type(lista_int))"
      ],
      "metadata": {
        "id": "scVDqPtAyCcq"
      },
      "execution_count": null,
      "outputs": []
    },
    {
      "cell_type": "markdown",
      "source": [
        "##2.5 Conversão  de tipos\n",
        "\n",
        "Embora python tenha tipagem dinâmica, ela é uma linguagem **fortemente tipada**, isto é, não realiza conversão automática de tipos\n",
        "\n",
        "Para converter de um tipo para outro é necessário fazer a conversão explícita por meio das funções:\n",
        "\n",
        "* *int()*: converte para inteiro\n",
        "* *float()*: converte para um valor real\n",
        "* *bool()*: converte para valor lógico\n",
        "* *str()*: converte para string\n",
        "* *list()*: converte para lista\n",
        "*... assim por diante"
      ],
      "metadata": {
        "id": "w783UDtT4CFJ"
      }
    },
    {
      "cell_type": "code",
      "source": [
        "#exemplo:\n",
        "dia = 10\n",
        "mes = \"maio\"\n",
        "ano = 1978\n",
        "\n",
        "data = str(dia)+\" de \"+mes+\" de \"+str(ano) #conserte esta linha para que possa converter pra string!\n",
        "print(data)\n"
      ],
      "metadata": {
        "id": "oTxP3C_V46NJ"
      },
      "execution_count": null,
      "outputs": []
    },
    {
      "cell_type": "markdown",
      "source": [
        "***\n",
        "#3. Operadores lógico-aritméticos\n",
        "\n",
        "##3.1 Atribuição\n",
        "\n",
        "Operação de “atualizar” o valor de uma variável\n",
        "\n",
        "*   Sintaxe:\n",
        "**  <variável>=<valor ou operação>\n",
        "** \"variável recebe resultado da operação\"\n"
      ],
      "metadata": {
        "id": "bOQBS6jD0V-T"
      }
    },
    {
      "cell_type": "code",
      "source": [
        "a = 10\n",
        "b = 20\n",
        "c = a+b\n",
        "print(c)"
      ],
      "metadata": {
        "id": "vnT-iSLl0sjO"
      },
      "execution_count": null,
      "outputs": []
    },
    {
      "cell_type": "markdown",
      "source": [],
      "metadata": {
        "id": "-6BcApS0tiae"
      }
    },
    {
      "cell_type": "markdown",
      "source": [
        "##3.2 Operadores aritméticos\n",
        "\n",
        "São eles:\n",
        "\n",
        "* Básicos: + , - , * , /\n",
        "* Divisão inteira: //\n",
        "* Resto de divisão: %\n",
        "* Potenciação: **\n",
        "\n"
      ],
      "metadata": {
        "id": "w-b1Q8Yq01_5"
      }
    },
    {
      "cell_type": "code",
      "source": [
        "quociente = 20//3\n",
        "resto = 20%3\n",
        "pot = 2**5\n",
        "\n",
        "print(quociente, resto, pot)\n"
      ],
      "metadata": {
        "id": "zMrKn62g1V5h"
      },
      "execution_count": null,
      "outputs": []
    },
    {
      "cell_type": "markdown",
      "source": [
        "##3.3 Operadores Comparativos\n",
        "\n",
        "* Básicos: >, >=, <, <=, ==, !=\n",
        "* operador **is**:\n",
        "  * Utilizado para saber se duas variáveis fazem referência para o mesmo objeto (mesmo id de variável)\n",
        "* operador **in**:\n",
        "  * Utlizado para saber se um valor está inserido dentro de uma coleção de valores\n",
        "  "
      ],
      "metadata": {
        "id": "u8WqlkFV1uhY"
      }
    },
    {
      "cell_type": "code",
      "source": [
        "#exemplo is\n",
        "lista = [1,2,3]\n",
        "l2 = lista\n",
        "print(l2 is lista)\n",
        "lista3 = [2,3,4]\n",
        "print(l2 is lista3)\n",
        "\n",
        "#exemplo in\n",
        "print(4 in [1,2,3,4])\n",
        "print('a' in 'aeiou')\n",
        "print(6 in [3,4,5,7])"
      ],
      "metadata": {
        "id": "sioDE_SA2dFZ"
      },
      "execution_count": null,
      "outputs": []
    },
    {
      "cell_type": "markdown",
      "source": [
        "##3.4 Operadores lógicos\n",
        "\n",
        "* Operador E: *and*\n",
        "* Operador OU: *or*\n",
        "* Operador NÃO: *not*\n",
        "\n"
      ],
      "metadata": {
        "id": "H34u8QGd3XfQ"
      }
    },
    {
      "cell_type": "code",
      "source": [
        "print(True and (not True or False))\n",
        "print(tem_aula and hj_eh_feriado)\n",
        "print(tem_aula or hj_eh_feriado)"
      ],
      "metadata": {
        "id": "lOIaeGHF5sTp"
      },
      "execution_count": null,
      "outputs": []
    },
    {
      "cell_type": "markdown",
      "source": [
        "\n",
        "***\n",
        "\n",
        "#4. Operações de Entrada e Saída de dados\n",
        "##4.1 Comando de entrada\n",
        "\n",
        "Para que um programa de computador possa resolver um problema, ele precisa primeiramente de informações (dados) que sejam relevantes para a solução proposta.\n",
        "\n",
        "A esses dados damos o nome de **dados de entrada**\n",
        "\n",
        "Para receber tais dados é preciso que sejam lidos de dispositivos de entrada, como o teclado, por exemplo.\n",
        "\n",
        "Em python a função responsável por fazer a leitura dos dados pelo teclado é o método *input()*."
      ],
      "metadata": {
        "id": "WTP15VJTudiK"
      }
    },
    {
      "cell_type": "code",
      "source": [
        "var = input(\"Mensagem que deseja exibir antes da leitura:\")"
      ],
      "metadata": {
        "id": "8Zuxq6bLvxRo"
      },
      "execution_count": null,
      "outputs": []
    },
    {
      "cell_type": "markdown",
      "source": [
        "É importante ressaltar que a função *input()* sempre retorna o tipo de dado literal (*string*). Por essa razão, para ler a entrada no tipo de dado desejado é necessário fazer a conversão explícita.\n",
        "\n",
        "Podemos ver como proceder no exemplo a seguir:"
      ],
      "metadata": {
        "id": "kXSEalVgwSWc"
      }
    },
    {
      "cell_type": "code",
      "source": [
        "#Exercício IMC\n",
        "\n",
        "nome = input(\"Digite seu nome:\")\n",
        "idade = int(input(\"Digite sua idade:\"))\n",
        "alt = float(input(\"Digite sua altura:\"))\n",
        "peso = float(input(\"Digite seu peso\"))\n",
        "imc = peso/(alt*alt)\n",
        "print(f\"{nome}, seua altura é {alt:.3f}m e seu peso é {peso}kgs. Seu imc é {imc:.3f}\")\n",
        "\n",
        "#escreva o trecho de código necessário para apartir das leituras, calcular o IMC do usuário"
      ],
      "metadata": {
        "id": "7NzGS1t1wq0Z",
        "colab": {
          "base_uri": "https://localhost:8080/",
          "height": 258
        },
        "outputId": "f4481430-7075-4660-8357-2bba68de7d5b"
      },
      "execution_count": null,
      "outputs": [
        {
          "name": "stdout",
          "output_type": "stream",
          "text": [
            "Digite seu nome:asdfghj\n",
            "Digite sua idade:2.45678\n"
          ]
        },
        {
          "output_type": "error",
          "ename": "ValueError",
          "evalue": "invalid literal for int() with base 10: '2.45678'",
          "traceback": [
            "\u001b[0;31m---------------------------------------------------------------------------\u001b[0m",
            "\u001b[0;31mValueError\u001b[0m                                Traceback (most recent call last)",
            "\u001b[0;32m<ipython-input-6-c4826397ac50>\u001b[0m in \u001b[0;36m<cell line: 4>\u001b[0;34m()\u001b[0m\n\u001b[1;32m      2\u001b[0m \u001b[0;34m\u001b[0m\u001b[0m\n\u001b[1;32m      3\u001b[0m \u001b[0mnome\u001b[0m \u001b[0;34m=\u001b[0m \u001b[0minput\u001b[0m\u001b[0;34m(\u001b[0m\u001b[0;34m\"Digite seu nome:\"\u001b[0m\u001b[0;34m)\u001b[0m\u001b[0;34m\u001b[0m\u001b[0;34m\u001b[0m\u001b[0m\n\u001b[0;32m----> 4\u001b[0;31m \u001b[0midade\u001b[0m \u001b[0;34m=\u001b[0m \u001b[0mint\u001b[0m\u001b[0;34m(\u001b[0m\u001b[0minput\u001b[0m\u001b[0;34m(\u001b[0m\u001b[0;34m\"Digite sua idade:\"\u001b[0m\u001b[0;34m)\u001b[0m\u001b[0;34m)\u001b[0m\u001b[0;34m\u001b[0m\u001b[0;34m\u001b[0m\u001b[0m\n\u001b[0m\u001b[1;32m      5\u001b[0m \u001b[0malt\u001b[0m \u001b[0;34m=\u001b[0m \u001b[0mfloat\u001b[0m\u001b[0;34m(\u001b[0m\u001b[0minput\u001b[0m\u001b[0;34m(\u001b[0m\u001b[0;34m\"Digite sua altura:\"\u001b[0m\u001b[0;34m)\u001b[0m\u001b[0;34m)\u001b[0m\u001b[0;34m\u001b[0m\u001b[0;34m\u001b[0m\u001b[0m\n\u001b[1;32m      6\u001b[0m \u001b[0mpeso\u001b[0m \u001b[0;34m=\u001b[0m \u001b[0mfloat\u001b[0m\u001b[0;34m(\u001b[0m\u001b[0minput\u001b[0m\u001b[0;34m(\u001b[0m\u001b[0;34m\"Digite seu peso\"\u001b[0m\u001b[0;34m)\u001b[0m\u001b[0;34m)\u001b[0m\u001b[0;34m\u001b[0m\u001b[0;34m\u001b[0m\u001b[0m\n",
            "\u001b[0;31mValueError\u001b[0m: invalid literal for int() with base 10: '2.45678'"
          ]
        }
      ]
    },
    {
      "cell_type": "markdown",
      "source": [
        "complete o exercício acima corretamente!"
      ],
      "metadata": {
        "id": "pxJ4ATz_Dm6e"
      }
    },
    {
      "cell_type": "markdown",
      "source": [
        "##4.2 Comando de Saída\n",
        "\n",
        "Já para a saída de dados, contamos com a função *print()*, que ser para fazer a impressão de uma string em tela.\n",
        "\n",
        "Existem alguns padrões de formatação para a saída da string. Uma explicação completa sobre isso pode ser obtida [neste material oficial](https://docs.python.org/pt-br/3/tutorial/inputoutput.html)\n",
        "\n"
      ],
      "metadata": {
        "id": "lFEK4RF92M15"
      }
    },
    {
      "cell_type": "code",
      "source": [
        "print (nome)\n",
        "print (\"Seu peso é \"+str(peso))\n",
        "print (f\"Seu peso é {peso} e sua altura é {alt}\")\n",
        "print (f\"Seu peso é {peso:.3f} e sua altura é {alt:.1f}\")\n",
        "\n"
      ],
      "metadata": {
        "id": "gmYwD3C_3mp0"
      },
      "execution_count": null,
      "outputs": []
    },
    {
      "cell_type": "markdown",
      "source": [
        "***\n",
        "#5. Abordagem Algorítmica\n",
        "\n",
        "Comnhecendo os conceitos aprendidos até aqui, podemos escrever nossos primeiros programas em Python utilizando a ESTRUTURA SEQUENCIAL.\n",
        "\n",
        "* **Estrutura Sequencial:** Todo o programa é escrito em um único fluxo de instruções que é executado do início ao fim sem desvios.\n",
        "\n",
        "##5.1 Estruturando o problema em um algoritmo\n",
        "\n",
        "A fim de resolver qualquer problema por meio de um algoritmo, seja neste curso ou em qualquer outra situação, é conveniente aprendermos utilizar a **abordagem algorítmica** de resolução de problemas.\n",
        "\n",
        "Podemos resumí-la nos seguintes passos:\n",
        "\n",
        "1. Mapear o problema:\n",
        "\n",
        "  * Quais são as entradas de dados?\n",
        "  * Que operações devem ser realizadas sob as entradas? (Processamento)\n",
        "  * Quais são as saídas de dados?\n",
        "\n",
        "2. Transcrever para um algoritmo\n",
        "3. Transcrever o algoritmo para um programa\n",
        "  * Executar e testar se a lógica do programa que criamos está correta\n",
        "\n",
        "\n",
        "##5.2 Estratégias de teste\n",
        "\n",
        "Após a elaboração do programa, é importante elaborar testes que averiguem a corretude e completude a solução projetada. Para isso é importante elaborar uma estratégia de teste para seu programa.\n",
        "\n",
        "* **Hipóteses de teste:**\n",
        "  * Quais são as possíveis possibilidades de entradas de dados?\n",
        "  * Quais são os possíveis erros de entrada de dados que podem ser cometidos pelo usuário?\n",
        "  * quais são os resultados esperados?\n",
        "\n",
        "***\n",
        "\n",
        "\n"
      ],
      "metadata": {
        "id": "u7vKrRL1gxJD"
      }
    },
    {
      "cell_type": "markdown",
      "source": [
        "#6. Exercícios\n",
        "\n",
        "Resolva os problemas a seguir:\n",
        "\n",
        "1. Uma empresa que constrói reservatórios industriais está tendo problemas para estimar a o custo e a quantidade de tinta necessária para pintar seus reservatórios cilíndricos, por isso, contratou um programador (no caso, você!) para escrever um programa simples em python que gere estimativas.\n",
        "\n",
        "  * O programa deve receber as dimensões do reservatório, quantidade de litros por lata de tinta, o rendimento (metros quadrados por litro) e o custo por lata\n",
        "  * O programa deve calcular e retornar quantas latas são necessárias para pintar o reservatório e o custo total da pintura.\n",
        "  * Para fins de garantia das estimativas, deve-se sempre adicionar uma lata de tinta adicional para garantir a pintura completa e possíveis perdas.\n",
        "\n",
        "\n",
        "\n"
      ],
      "metadata": {
        "id": "quplG0a5mMvG"
      }
    },
    {
      "cell_type": "code",
      "source": [
        "# escreva e teste sua resposta aqui..."
      ],
      "metadata": {
        "id": "CNpgz4rDoHmY"
      },
      "execution_count": null,
      "outputs": []
    },
    {
      "cell_type": "markdown",
      "source": [
        "***\n",
        "2.Escreva um programa que calcule e imprima o valor total da conta de uma mesa, cobrando 10% sobre o valor da conta e o valor estipulado como couvert artístico por cada pessoa presente na mesa.\n"
      ],
      "metadata": {
        "id": "MkFb2lM7oRJK"
      }
    },
    {
      "cell_type": "code",
      "source": [
        "# escreva e teste sua resposta aqui"
      ],
      "metadata": {
        "id": "x3ZMsGIXooq2"
      },
      "execution_count": null,
      "outputs": []
    },
    {
      "cell_type": "markdown",
      "source": [
        "\n",
        "---\n",
        "---\n",
        "\n",
        "\n",
        "AVISO:Esse material foi produzido por Prof. Me. Diogo Tavares da Silva e é de sua inteira responsabilidade e propriedade intelectual sob licença GPL-3. Caso queira utilizar ou adaptar em suas aulas, por favor, não deixe de dar os créditos."
      ],
      "metadata": {
        "id": "-p62sw1StzE7"
      }
    }
  ]
}