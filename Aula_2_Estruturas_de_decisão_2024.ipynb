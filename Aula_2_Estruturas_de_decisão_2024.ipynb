{
  "nbformat": 4,
  "nbformat_minor": 0,
  "metadata": {
    "colab": {
      "provenance": [],
      "include_colab_link": true
    },
    "kernelspec": {
      "name": "python3",
      "display_name": "Python 3"
    },
    "language_info": {
      "name": "python"
    }
  },
  "cells": [
    {
      "cell_type": "markdown",
      "metadata": {
        "id": "view-in-github",
        "colab_type": "text"
      },
      "source": [
        "<a href=\"https://colab.research.google.com/github/lucsferreiraalonso/labPraticasIntegradas/blob/main/Aula_2_Estruturas_de_decis%C3%A3o_2024.ipynb\" target=\"_parent\"><img src=\"https://colab.research.google.com/assets/colab-badge.svg\" alt=\"Open In Colab\"/></a>"
      ]
    },
    {
      "cell_type": "markdown",
      "source": [
        "# 1. Programação Estruturada (Parte 1)\n",
        "\n",
        "Nas próximas aulas aprenderemos quais as estruturas utillizadas pela linguagem Python para manter nossos programas estruturados.\n",
        "\n",
        "Para construir algoritmos completos e eficientes é preciso aprender controlar o fluxo de instruções de um programa:\n",
        "\n",
        "* Estrutura Sequencial\n",
        "  * Executar um conjunto de instruções serialmente, uma após a outra.\n",
        "\n",
        "* Estruturas de decisão:\n",
        "    * Testar condições e valores de variáveis e objetos de um programa e tomar ações a partir desses resultados\n",
        "\n",
        "* Estruturas de repetição:\n",
        "  * Controlar o fluxo de um programa para repetir atividades até que uma condição seja satisfeita\n",
        "\n",
        "Nas próximas aulas analizeremos cada uma destas estruturas.\n",
        "\n"
      ],
      "metadata": {
        "id": "O-9XXzepVTMR"
      }
    },
    {
      "cell_type": "markdown",
      "source": [
        "![estruturas.jpg](data:image/jpeg;base64,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)"
      ],
      "metadata": {
        "id": "x7lK3Udgf1Un"
      }
    },
    {
      "cell_type": "markdown",
      "source": [
        "***\n",
        "## 11. Indentação em Python\n",
        "\n",
        "Antes de proseguirmos, é importante compreender como funciona a indentação de blocos em Python.\n",
        "\n",
        "A indentação é uma característica importante da sintaxe do Python. Ela é usada para delimitar blocos de código e determinar o escopo de variáveis e funções.\n",
        "\n",
        "Em outras linguagens de programação, como C ou Java, os blocos de código são delimitados por chaves `{}`. No entanto, em Python, a **indentação** é usada para esse propósito.\n",
        "\n",
        "Exemplo: indentação usada em uma estrutura de decisão `if`:\n",
        "\n",
        "```\n",
        "x = 10\n",
        "if x > 5:\n",
        "    print(\"x é maior que 5\") # Esta linha está indentada com 4 espaços\n",
        "```\n",
        "\n",
        "Neste exemplo, a linha `print(\"x é maior que 5\")` está indentada com 4 espaços em relação à linha anterior. Isso indica que ela faz parte do bloco de código dentro da estrutura `if`. Se a condição `x > 5` for verdadeira, o código dentro do bloco será executado. Caso contrário, ele será ignorado.\n",
        "\n",
        "**Importante:** Note que a quantidade de espaços usada para a indentação deve ser consistente em todo o código.\n",
        "\n",
        "  * Exemplo: Se um bloco foi indentado com um *tab*, um bloco dentro do bloco deve ser indentado com dois *tab*. Se foi iden\n",
        "\n",
        "Além disso, é recomendável usar 4 espaços para cada nível de indentação, embora isso não seja obrigatório (boa prática).\n",
        "\n",
        "***\n",
        "# 2. Estruturas de Decisão em Python\n",
        "\n",
        "As estruturas de decisão são usadas para controlar o fluxo de execução do código com base em condições específicas. Em Python, as principais estruturas de decisão são `if`, `elif` e `else`.\n",
        "\n",
        "Exemplo 1: if\n",
        "```\n",
        "x = 10\n",
        "if x > 5:\n",
        "    print(\"x é maior que 5\")\n",
        "```\n",
        "\n",
        "Exemplo 2: if-else\n",
        "```\n",
        "y = 3\n",
        "if y > 5:\n",
        "    print(\"y é maior que 5\")\n",
        "else:\n",
        "    print(\"y é menor ou igual a 5\")\n",
        "```\n",
        "\n",
        "Exemplo 3: if-elif-else\n",
        "```\n",
        "z = 7\n",
        "if z > 10:\n",
        "    print(\"z é maior que 10\")\n",
        "elif z > 5:\n",
        "    print(\"z é maior que 5 e menor ou igual a 10\")\n",
        "else:\n",
        "    print(\"z é menor ou igual a 5\")\n",
        "```\n",
        "\n",
        "***\n",
        "# 3. Exercícios de Estruturas de Decisão em Python\n",
        "\n",
        "1. (Fácil):\n",
        "Escreva um programa que peça ao usuário para digitar os valores dos três lados de um triângulo. Considerando que os três valores são válidos, escreva um programa que informa se o triangulo entrado é \"Equilátero\", \"Escaleno\" ou \"Isóceles\".\n"
      ],
      "metadata": {
        "id": "taT3GFT603aN"
      }
    },
    {
      "cell_type": "code",
      "source": [
        "#digite seu programa aqui\n",
        "print(\"olá\")"
      ],
      "metadata": {
        "id": "i_JeR8j_eDYB",
        "outputId": "9a012195-40c3-4b98-90ed-d10e05f8507d",
        "colab": {
          "base_uri": "https://localhost:8080/"
        }
      },
      "execution_count": null,
      "outputs": [
        {
          "output_type": "stream",
          "name": "stdout",
          "text": [
            "olá\n"
          ]
        }
      ]
    },
    {
      "cell_type": "markdown",
      "source": [
        "2. (Médio) Para que um triângulo possa ser formado, a soma dos dois lados menores deve ser maior que o valor do lado maior. Escreva um programa que leia três valores correspondentes aos lados e verifica se eles podem formar um triângulo ou não."
      ],
      "metadata": {
        "id": "fdGTXKGReIcg"
      }
    },
    {
      "cell_type": "code",
      "source": [
        "#digite seu programa aqui"
      ],
      "metadata": {
        "id": "PR7l-6_seg1w"
      },
      "execution_count": null,
      "outputs": []
    },
    {
      "cell_type": "markdown",
      "source": [
        "3. (Médio) Finalmente, escreva um programa que leia três valores de lados de um triangulo. Valide se os valores podem formar um triângulo ou não, e se puderem, informe se o triangulo formado é equilátero, isóceles ou escaleno:"
      ],
      "metadata": {
        "id": "R9rKFjkLjC5k"
      }
    },
    {
      "cell_type": "code",
      "source": [
        "#digite seu programa aqui"
      ],
      "metadata": {
        "id": "ENMYrveNjXfa"
      },
      "execution_count": null,
      "outputs": []
    },
    {
      "cell_type": "markdown",
      "source": [
        "4. (Difícil) Escreva um programa que leia um valor de ano válido e informe se o ano é bissexto ou não.\n",
        "\n",
        "Dica:\n",
        "* São bissextos todos os anos múltiplos de 400\n",
        " ex: 1600, 2000, 2400, 2800...\n",
        "* São bissextos todos os múltiplos de 4 mas não de 100.\n",
        " ex: 1996, 2004, 2008, 2012, 2016…\n",
        "* Não são bissextos todos os demais anos.\n"
      ],
      "metadata": {
        "id": "cmIownZQjaRs"
      }
    },
    {
      "cell_type": "code",
      "source": [
        "#escreva seu programa aqui"
      ],
      "metadata": {
        "id": "FWt8slrLjiuO"
      },
      "execution_count": null,
      "outputs": []
    },
    {
      "cell_type": "markdown",
      "source": [
        "---\n",
        "---\n",
        "AVISO:Esse material foi produzido por Prof. Me. Diogo Tavares da Silva e é de sua inteira responsabilidade e propriedade intelectual. Caso queira utilizar ou adaptar em suas aulas, por favor, não deixe de dar os créditos."
      ],
      "metadata": {
        "id": "CjQeA98tIZyg"
      }
    }
  ]
}