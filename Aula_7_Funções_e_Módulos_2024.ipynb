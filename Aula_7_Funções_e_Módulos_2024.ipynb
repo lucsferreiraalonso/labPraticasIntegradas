{
  "nbformat": 4,
  "nbformat_minor": 0,
  "metadata": {
    "colab": {
      "provenance": [],
      "include_colab_link": true
    },
    "kernelspec": {
      "name": "python3",
      "display_name": "Python 3"
    },
    "language_info": {
      "name": "python"
    }
  },
  "cells": [
    {
      "cell_type": "markdown",
      "metadata": {
        "id": "view-in-github",
        "colab_type": "text"
      },
      "source": [
        "<a href=\"https://colab.research.google.com/github/lucsferreiraalonso/labPraticasIntegradas/blob/main/Aula_7_Fun%C3%A7%C3%B5es_e_M%C3%B3dulos_2024.ipynb\" target=\"_parent\"><img src=\"https://colab.research.google.com/assets/colab-badge.svg\" alt=\"Open In Colab\"/></a>"
      ]
    },
    {
      "cell_type": "markdown",
      "source": [
        "# Aula 7 : Funções e Módulos\n",
        "\n",
        "### 1. Introdução\n",
        "\n",
        "Funções e módulos são recursos importantes que podem ajudar a melhorar a qualidade e a manutenibilidade do código.\n",
        "\n",
        "Geralmente possuem duas funções princpais:\n",
        "\n",
        "- **Trechos de código especializados:**\n",
        "Se uma operação precisa ser feita várias e várias vezes durante a execução de um programa e não existe um método nativo que realize essa operação, a saída é construir uma função\n",
        "  - Exemplo: Leitura de um valor inteiro válido\n"
      ],
      "metadata": {
        "id": "_7S1T1_7sJlS"
      }
    },
    {
      "cell_type": "code",
      "source": [
        "\n",
        "def ler_inteiro(msg):\n",
        "  while True:\n",
        "    try:\n",
        "      valor = int(input(msg))\n",
        "      return valor\n",
        "    except:\n",
        "      print(\"Entrada de dados em formato inválido! Digite novamente:\")\n",
        "\n",
        "idade = ler_inteiro(\"Digite sua idade:\")\n",
        "print(f\"A idade do usuário é {idade}\",end=\"\")"
      ],
      "metadata": {
        "colab": {
          "base_uri": "https://localhost:8080/"
        },
        "id": "lFy1AJ6sMpZ9",
        "outputId": "8ce85a18-8f8e-4488-f7e6-b3e9609135c0"
      },
      "execution_count": null,
      "outputs": [
        {
          "output_type": "stream",
          "name": "stdout",
          "text": [
            "Digite sua idade:34\n",
            "A idade do usuário é 34"
          ]
        }
      ]
    },
    {
      "cell_type": "markdown",
      "source": [
        "- **Organização das atividades e da estrutura do programa:**\n",
        "Melhoria da organização do fluxo do programa através de funções bem definidas que dão sequência umas às outras ou são disparadas quando o usuário solicita\n",
        "  - exemplo: estrutura de navegação por escolha"
      ],
      "metadata": {
        "id": "04afNv4yMp4L"
      }
    },
    {
      "cell_type": "code",
      "source": [
        "def cadastrar():\n",
        "  print(\"Fazer cadastro\")\n",
        "\n",
        "def buscar_cadastro():\n",
        "  print(\"Buscar cadastro\")\n",
        "\n",
        "def excluir_cadastro():\n",
        "  print(\"Excluir cadastro\")\n",
        "\n",
        "def print_menu():\n",
        "  print(\"\"\"\n",
        "  1 - Cadastrar\n",
        "  2 - Buscar\n",
        "  3 - Excluir\n",
        "  4 - Sair\n",
        "  \"\"\")\n",
        "\n",
        "if __name__ == \"__main__\": #para saber se está executando no \"entry-point\"\n",
        "  while True:\n",
        "    print_menu()\n",
        "    opc = ler_inteiro(\"Digite a opção desejada: \")\n",
        "    if opc == 1:\n",
        "      cadastrar()\n",
        "    elif opc == 2:\n",
        "      buscar_cadastro()\n",
        "    elif opc == 3:\n",
        "      excluir_cadastro()\n",
        "    else:\n",
        "      break\n"
      ],
      "metadata": {
        "colab": {
          "base_uri": "https://localhost:8080/"
        },
        "id": "y5edElOhQL6E",
        "outputId": "495d3941-2be3-4c29-c118-0c115dd0ffde"
      },
      "execution_count": null,
      "outputs": [
        {
          "name": "stdout",
          "output_type": "stream",
          "text": [
            "\n",
            "  1 - Cadastrar\n",
            "  2 - Buscar\n",
            "  3 - Excluir\n",
            "  4 - Sair\n",
            "  \n",
            "Digite a opção desejada: cavalo\n",
            "Entrada de dados em formato inválido! Digite novamente:\n",
            "Digite a opção desejada: 5\n"
          ]
        }
      ]
    },
    {
      "cell_type": "markdown",
      "source": [
        "### 1.2 Sintaxe de criação e uso de funções em Python\n",
        "\n",
        "````python\n",
        "#criando a função\n",
        "def funcao(<parametros>):\n",
        "\t#operações\n",
        "\treturn valorDeRetorno #pode ou não haver retorno\n",
        "\n",
        "#chamando a função\n",
        "#declaração dos parâmetros\n",
        "retorno = funcao(<parametros>) #se houver retorno\n",
        "\n",
        "````\n",
        "\n",
        "onde:\n",
        "- **def** :\n",
        "palavra reservada que indica a declaração de uma função\n",
        "\n",
        "- < ***lista de parâmetros*** > :\n",
        "Conjunto de variáveis de parâmetros (\"argumentos\") que sua função precisa para executar\n",
        "  - Em python não é necessário declarar o tipo de dado dos parâmetros. O tipo é definido pelos valores passados e operações sobre esses valores\n",
        "  - caso deseje deixar explícito, basta colocar \"````nome_variavel:tipo ````\"\n",
        "\n",
        "- < ***comandos*** >  :\n",
        "Conjunto de linhas de código que implementam a lógica da sua função, ou seja, o algoritmo da função implementada.\n",
        "\n",
        "- **return** : palavra reservada que indica que seu programa retorna um valor, string, lista, objeto, etc para quem o chamou\n",
        "  - Geralmente retorna uma tupla ````<class tuple>```` (lista imutável) quando se deseja devolver vários váriáveis.\n",
        "  - Se o programa apenas executa instruções, basta não retornar nada.\n",
        "\n",
        "### 1.3 Ver e Inserir Documentação nas funções\n",
        "\n",
        "Podemos consultar a documentação de uma função por meio da função ````help()````\n"
      ],
      "metadata": {
        "id": "zLUdiZKm8Wr6"
      }
    },
    {
      "cell_type": "code",
      "source": [
        "#exemplo: Consulta à documentação da função range()\n",
        "print(help(range))"
      ],
      "metadata": {
        "id": "eIuIaNanACDq",
        "colab": {
          "base_uri": "https://localhost:8080/"
        },
        "outputId": "a6f4c602-1154-4be9-ae4c-e692d3924e6d"
      },
      "execution_count": null,
      "outputs": [
        {
          "output_type": "stream",
          "name": "stdout",
          "text": [
            "Help on class range in module builtins:\n",
            "\n",
            "class range(object)\n",
            " |  range(stop) -> range object\n",
            " |  range(start, stop[, step]) -> range object\n",
            " |  \n",
            " |  Return an object that produces a sequence of integers from start (inclusive)\n",
            " |  to stop (exclusive) by step.  range(i, j) produces i, i+1, i+2, ..., j-1.\n",
            " |  start defaults to 0, and stop is omitted!  range(4) produces 0, 1, 2, 3.\n",
            " |  These are exactly the valid indices for a list of 4 elements.\n",
            " |  When step is given, it specifies the increment (or decrement).\n",
            " |  \n",
            " |  Methods defined here:\n",
            " |  \n",
            " |  __bool__(self, /)\n",
            " |      True if self else False\n",
            " |  \n",
            " |  __contains__(self, key, /)\n",
            " |      Return key in self.\n",
            " |  \n",
            " |  __eq__(self, value, /)\n",
            " |      Return self==value.\n",
            " |  \n",
            " |  __ge__(self, value, /)\n",
            " |      Return self>=value.\n",
            " |  \n",
            " |  __getattribute__(self, name, /)\n",
            " |      Return getattr(self, name).\n",
            " |  \n",
            " |  __getitem__(self, key, /)\n",
            " |      Return self[key].\n",
            " |  \n",
            " |  __gt__(self, value, /)\n",
            " |      Return self>value.\n",
            " |  \n",
            " |  __hash__(self, /)\n",
            " |      Return hash(self).\n",
            " |  \n",
            " |  __iter__(self, /)\n",
            " |      Implement iter(self).\n",
            " |  \n",
            " |  __le__(self, value, /)\n",
            " |      Return self<=value.\n",
            " |  \n",
            " |  __len__(self, /)\n",
            " |      Return len(self).\n",
            " |  \n",
            " |  __lt__(self, value, /)\n",
            " |      Return self<value.\n",
            " |  \n",
            " |  __ne__(self, value, /)\n",
            " |      Return self!=value.\n",
            " |  \n",
            " |  __reduce__(...)\n",
            " |      Helper for pickle.\n",
            " |  \n",
            " |  __repr__(self, /)\n",
            " |      Return repr(self).\n",
            " |  \n",
            " |  __reversed__(...)\n",
            " |      Return a reverse iterator.\n",
            " |  \n",
            " |  count(...)\n",
            " |      rangeobject.count(value) -> integer -- return number of occurrences of value\n",
            " |  \n",
            " |  index(...)\n",
            " |      rangeobject.index(value) -> integer -- return index of value.\n",
            " |      Raise ValueError if the value is not present.\n",
            " |  \n",
            " |  ----------------------------------------------------------------------\n",
            " |  Static methods defined here:\n",
            " |  \n",
            " |  __new__(*args, **kwargs) from builtins.type\n",
            " |      Create and return a new object.  See help(type) for accurate signature.\n",
            " |  \n",
            " |  ----------------------------------------------------------------------\n",
            " |  Data descriptors defined here:\n",
            " |  \n",
            " |  start\n",
            " |  \n",
            " |  step\n",
            " |  \n",
            " |  stop\n",
            "\n",
            "None\n"
          ]
        }
      ]
    },
    {
      "cell_type": "markdown",
      "source": [
        "Obviamente, em IDE's mais avançadas, a consulta a documentação de uma função pode ser feita simplesmente colocando o cursor sob o nome da função.\n",
        "\n",
        "####Como inserir documentação em nossa própria função?\n",
        "\n",
        "Utilizamos o recurso de *Docstrings* da linguagem Python.\n",
        "\n",
        "Após a declaração da função e antes dos comandos, inserimos a docstring entre aspas triplas (\"\"\" \"\"\") com a descrição da documentação."
      ],
      "metadata": {
        "id": "Hi58FHvnAZ_T"
      }
    },
    {
      "cell_type": "code",
      "source": [
        "def soma(a:int,b:int):\n",
        "  \"\"\" Retorna a soma dos valores 'a' e 'b' numéricos\n",
        "\n",
        "  Parâmetros:\n",
        "    - a: entrada numérica\n",
        "    - b: entrada numérica\n",
        "\n",
        "  Retorno:\n",
        "    - nenhum\n",
        "  \"\"\"\n",
        "  return a+b\n",
        "\n",
        "print(help(soma))\n",
        "print(soma(\"a\",\"b\"))"
      ],
      "metadata": {
        "colab": {
          "base_uri": "https://localhost:8080/"
        },
        "id": "fWBg1vN9BI2e",
        "outputId": "930a74c3-c4e9-4cc7-fbdc-c122779546b1"
      },
      "execution_count": null,
      "outputs": [
        {
          "output_type": "stream",
          "name": "stdout",
          "text": [
            "Help on function soma in module __main__:\n",
            "\n",
            "soma(a: int, b: int)\n",
            "    Retorna a soma dos valores 'a' e 'b' numéricos\n",
            "    \n",
            "    Parâmetros:\n",
            "      - a: entrada numérica\n",
            "      - b: entrada numérica\n",
            "    \n",
            "    Retorno:\n",
            "      - nenhum\n",
            "\n",
            "None\n",
            "ab\n"
          ]
        }
      ]
    },
    {
      "cell_type": "markdown",
      "source": [
        "### 1.4 Criando funções com parâmetros opcionais\n",
        "\n",
        "Para criar parâmetros opcionais basta declarar a função com o valor padrão para o parâmetro.\n",
        "\n",
        "Caso haja mais de um valor opcional, e se queira preencher apenas alguns opcionais, devem ser passados por parâmetro a partir do par ```` nome_parametro=<valor> ````\n",
        "\n"
      ],
      "metadata": {
        "id": "eWj8FfOqB1sZ"
      }
    },
    {
      "cell_type": "code",
      "source": [
        "def ler_inteiro(msg:str = \"\", pos:bool = False):\n",
        "  \"\"\"\n",
        "    Realiza a leitura de de um valor inteiro, tratando possíveis erros\n",
        "\n",
        "    Parâmetros:\n",
        "      - msg: Mensagem a ser exibida antes da leitura. Por padrão \"\" (vazia)\n",
        "      - pos: flag que indica a leitura apenas de um número positivo ou não. Por padrão False.\n",
        "\n",
        "    Retorno:\n",
        "     - Valor inteiro lido do teclado\n",
        "  \"\"\"\n",
        "  while True:\n",
        "    try:\n",
        "      valor = int(input(msg))\n",
        "      if (not pos):\n",
        "        return valor\n",
        "      else:\n",
        "        if (valor >= 0):\n",
        "          return valor\n",
        "        else:\n",
        "          print(\"Entrada de dados em formato inválido! Digite novamente:\")\n",
        "    except:\n",
        "      print(\"Entrada de dados em formato inválido! Digite novamente:\")\n",
        "\n",
        "idade = ler_inteiro()\n",
        "#qtde_sem_mensagem = ler_inteiro(pos=True)\n",
        "#qualquer_valor_sem_mensagem = ler_inteiro()\n"
      ],
      "metadata": {
        "colab": {
          "base_uri": "https://localhost:8080/"
        },
        "id": "89R6ya-gDMcE",
        "outputId": "4a284fd4-cdb7-4a46-eaa2-5157dce0b601"
      },
      "execution_count": null,
      "outputs": [
        {
          "name": "stdout",
          "output_type": "stream",
          "text": [
            "-78\n"
          ]
        }
      ]
    },
    {
      "cell_type": "markdown",
      "source": [
        "# 1.5 Criando funções com número indefinido de argumentos\n",
        "\n",
        "Para criar funções com um número indefinido de argumentos deve-se passar como parâmetro da função o nome da variável de parâmetro antecedida de \" * \". Tal variável será processada como uma lista.\n",
        "\n",
        "\n"
      ],
      "metadata": {
        "id": "x3FCJg5PF2GS"
      }
    },
    {
      "cell_type": "code",
      "source": [
        "def maior(*args):\n",
        "  if len(args) > 0:\n",
        "    maior = args[0]\n",
        "    for item in args:\n",
        "      if item > maior:\n",
        "        maior = item\n",
        "    return maior\n",
        "  else:\n",
        "    return None #referência nula\n",
        "\n",
        "print(maior(4,6,7,9,12,45,78))\n",
        "\n"
      ],
      "metadata": {
        "colab": {
          "base_uri": "https://localhost:8080/"
        },
        "id": "0bOuhjm-GdaE",
        "outputId": "96b66a5c-2ee6-4781-ce26-3de014c0040b"
      },
      "execution_count": null,
      "outputs": [
        {
          "output_type": "stream",
          "name": "stdout",
          "text": [
            "78\n"
          ]
        }
      ]
    },
    {
      "cell_type": "markdown",
      "source": [
        "### 2. Módulos em Python\n",
        "\n",
        "Agora imagine que você escreve funções para um programa e\n",
        "posteriormente ao desenvolver um novo programa percebe que as funções criadas anteriormente poderiam ser úteis. Obviamente uma estratégia pouco profissional seria copiar trechos de código toda vez que uma função fosse útil.\n",
        "\n",
        "Porém, a nível profissional é mais conveniente agrupar várias funções, variáveis e classes (em P.O.O) em um mesmo arquivo e utilizá-las quando for necessário.\n",
        "\n",
        "Essa é a idéia de construir e importar módulos em python.\n",
        "\n",
        "### 2.1 Importando módulos inteiros\n",
        "\n",
        "Para importar módulos inteiros, sejam eles criados por nós, da biblioteca padrão ou de terceiros, usamos o comando ```` import ````\n",
        "\n",
        "Sintaxe:\n",
        "\n",
        "````import <nome_módulo> ````\n",
        "\n",
        "observe que não incluímos a extenção .py no final do nome do módulo!\n",
        "\n",
        "Exemplo:\n",
        "\n",
        "````python\n",
        "import math\n",
        "\n",
        "sqrt = math.sqrt\n",
        "rq = math.sqrt(64)\n",
        "fat = math.factorial(13)\n",
        "````\n",
        "\n",
        "### 2.2 Importando apenas partes dos módulos\n",
        "\n",
        "Módulos podem ser grandes e nem tudo pode ser de interesse, por isso o Python permite importar apenas algumas funções ou submódulos que fazem parte de um módulo\n",
        "\n",
        "Para isso devemos usar o seguinte comando:\n",
        "\n",
        "````python\n",
        "from nome_modulo import f1,f2,..,fn\n",
        "````\n",
        "\n",
        "Caso queira importar todas as funções:\n",
        "\n",
        "````python\n",
        "from nome_modulo import *\n",
        "````\n",
        "\n",
        "exemplo:\n",
        "\n",
        "````python\n",
        "from math import sqrt, factorial\n",
        "\n",
        "rq = sqrt(64)\n",
        "fat = factorial(13)\n",
        "````\n",
        "\n"
      ],
      "metadata": {
        "id": "AOsVPcz9JkT9"
      }
    },
    {
      "cell_type": "markdown",
      "source": [
        "### 2.3 Criando meus próprios módulos\n",
        "\n",
        "Primeiramente você deve criar o arquivo com as funções e variáveis que irão compor o módulo. Esse arquivo deve possuir o nome de um programa python válido e terminar com a extensão “.py”.\n",
        "\n",
        "Em seguida,dentro do arquivo você deve implementar as variáveis, funções e objetos que compõem o módulo.\n",
        "\n",
        "o módulo criado deve estar de preferência no mesmo diretório de trabalho do programa principal que irá importá-lo.\n",
        "\n",
        "A partir disso, pode-se importá-lo de modo análogo com os comando ````import meu_modulo```` ou ````from meu_modulo import ...```` lembrando-se de não colocar no nome do módulo a extensão \".py\".\n",
        "\n",
        "#Exercício:\n",
        "\n",
        "Criar um módulo de geometria \"geo.py\" com as funções:\n",
        " - area_ret(b,h)\n",
        " - per_ret(b,h)\n",
        " - area_circ(r)\n",
        " - per_circ(r)\n",
        "\n",
        "Importar módulo e usar os funções. Recomenda-se usar IDE em máquina ou online.\n",
        "\n",
        "\n",
        "\n",
        "\n",
        "\n",
        "\n"
      ],
      "metadata": {
        "id": "bzHdy8iGNqmu"
      }
    },
    {
      "cell_type": "markdown",
      "source": [
        "### 2.4 Mais sobre módulos em Python\n",
        "\n",
        "explicação completa da documentação da linguagem:\n",
        "https://docs.python.org/pt-br/3/tutorial/modules.html\n"
      ],
      "metadata": {
        "id": "oJuiEenqNgjJ"
      }
    },
    {
      "cell_type": "markdown",
      "source": [
        "### 3. A Biblioteca Padrão do Python (*Python Standard Library*)\n",
        "\n",
        "Python é famosa por sua filosofia de \"baterias incluídas\", ou seja existe uma infinidade de módulos prontos disponíveis na biblioteca padrão do Python para resolver problemas diversos.\n",
        "\n",
        "Para importar esses módulos o processo é o mesmo, bastando usar nome do módulo ou de suas funções\n",
        "\n",
        "Caso queira conhecer todos os módulos que integram a biblioteca padrão basta acessar:\n",
        "https://docs.python.org/3/library/\n",
        "\n",
        "### 4. Instalando pacotes de terceiros o PIP\n",
        "\n",
        "Para gerenciar, instalar e utilizar pacotes de terceiros. Podemos usar o repositório de pacotes PIP\n",
        "\n",
        "https://pypi.org/\n",
        "\n",
        "Tutorial: https://www.treinaweb.com.br/blog/como-instalar-um-pacote-com-pip-e-utiliza-lo-em-seu-projeto\n",
        "\n",
        "\n"
      ],
      "metadata": {
        "id": "H_8wM3GNPlNa"
      }
    }
  ]
}