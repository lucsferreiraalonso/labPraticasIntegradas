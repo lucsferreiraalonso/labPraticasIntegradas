{
  "nbformat": 4,
  "nbformat_minor": 0,
  "metadata": {
    "colab": {
      "provenance": [],
      "include_colab_link": true
    },
    "kernelspec": {
      "name": "python3",
      "display_name": "Python 3"
    },
    "language_info": {
      "name": "python"
    }
  },
  "cells": [
    {
      "cell_type": "markdown",
      "metadata": {
        "id": "view-in-github",
        "colab_type": "text"
      },
      "source": [
        "<a href=\"https://colab.research.google.com/github/lucsferreiraalonso/labPraticasIntegradas/blob/main/aula_4_manipula_o_de_listas_2024.ipynb\" target=\"_parent\"><img src=\"https://colab.research.google.com/assets/colab-badge.svg\" alt=\"Open In Colab\"/></a>"
      ]
    },
    {
      "cell_type": "markdown",
      "source": [
        "# Aula 4 - Manipulação de Listas\n",
        "\n",
        "Até o momento trabalhamos apenas com variáveis simples:\n",
        "  - Apenas um valor é armazenado em cada variável\n",
        "\n",
        "É possível trabalharmos apenas assim?\n",
        "\n",
        "SIM e NÃO! Devemos lembrar sempre para quê criamos os computadores. Criamos para desenvolver cálculos em escalas que nós humanos apenas somos capazes de realizar em uma quantidade de tempo e esforço infinitamente maior.\n",
        "\n",
        "Exemplo: Ler o peso e altura de uma pessoa, calcular e armazenar o IMC.\n",
        "\n",
        "...E se forem 3 pessoas?\n",
        "\n",
        "...E se forem 10 pessoas?\n",
        "\n",
        "...e se forem 1000 pessoas?\n",
        "\n",
        "...e se forem 100000 de pessoas?"
      ],
      "metadata": {
        "id": "FTud5sszPnMH"
      }
    },
    {
      "cell_type": "markdown",
      "source": [
        "***\n",
        "# 1. Arranjos de dados\n",
        "\n",
        "Variáveis compostas que armazenam conjuntos **indexados** de dados\n",
        "\n",
        "Como assim, **\"indexados\"**?\n",
        "\n",
        "Dado são acessíveis a partir de um mecanismo de **índice** .\n",
        "\n",
        "No caso do arranjo linear, a n unidades de informação são indexadas apartir de um índice numérico inteiro de 0 até n-1 que indica qual a posição em que um valor foi armazenado no arranjo (*array*).\n",
        "\n",
        "Arrays podem ser n-dimensionais:\n",
        "\n",
        "- **Unidimensional (linear) (“Vetores”):** Os dados são armazenados em uma dimensão, ou seja, sequencialmente e acessados a partir de um índice.\n",
        "\n",
        "- **Bidimensionais (“Matrizes”):** Os dados são armazenados em duas dimensões e\n",
        "acessados a partir de dois índices (posição na linha e posição na coluna). Na prática é um \"vetor de vetor\".\n"
      ],
      "metadata": {
        "id": "rTw6otjMP8c_"
      }
    },
    {
      "cell_type": "markdown",
      "source": [
        "***\n",
        "## 1.1 Vetor x Lista\n",
        "\n",
        "Considerando tais conceitos para linguagens de programação de baixo nível:\n",
        "\n",
        "- **Vetor:** Arranjo homogêneo e armazenado de forma contígua na memória\n",
        "  - Todas as informações são de um mesmo tipo e estão armazenadas sequencialmente nos endereços de memória\n",
        "\n",
        "- **Lista:** Arranjo dinâmico, homogêneo ou heterogêneo e armazenado de forma não linear na memória\n",
        "  - As informações na memória são alocadas em tempo de execução, não são necessáriamente de um mesmo tipo e não estão armazenadas sequencialmente.\n",
        "\n",
        "## 1.1.1 Arranjos em Python\n",
        "\n",
        "O conceito de \"vetor\" como estrutura estática, homogênea e sequencial não existe em Python. O tipo básico de arranjo linear em Python é o tipo Lista (*list*).\n",
        "\n",
        "Porém, a manipulação de lista em Python é análoga a um vetor, ou seja, as informações podem ser acessadas por índices numéricos, como *arrays* lineares.\n",
        "\n",
        "Essa característica dá a classe lista em python um poderoso poder de programação."
      ],
      "metadata": {
        "id": "qJQUhnB6Tagg"
      }
    },
    {
      "cell_type": "markdown",
      "source": [
        "***\n",
        "## 1.2 Listas em Python\n",
        "\n",
        "\n",
        "Python possui uma série de tipos de dados compostos nativos da linguagem, dentre eles o tipo ***list***, ou seja, o objeto do tipo lista.\n",
        "````\n",
        "#exucudando em modo prompt:\n",
        "\n",
        ">>> lista = [2,4,6,8]\n",
        ">>> type(lista)\n",
        ">>> <class ‘list’>\n",
        "````\n",
        "Vamos analisar as principais operações, recursos existentes e os principais métodos que o objeto lista nos oferece para a manipulação dessas estruturas...\n",
        "\n",
        "#### Atribuição\n",
        "\n",
        "````\n",
        "lista = [item1, item2, item3, …, item n]\n",
        "````\n",
        "\n",
        "Onde item pode ser qualquer tipo de objeto:\n",
        "\n",
        "- inteiros, reais, strings, objetos implementados ou importados, outras listas, etc."
      ],
      "metadata": {
        "id": "kJS8fsPSUkLa"
      }
    },
    {
      "cell_type": "code",
      "source": [
        "#lista de inteiros\n",
        "lista = [2, 4, 6, 3, 6]\n",
        "print(lista)\n",
        "#lista de strings\n",
        "lista2 = [\"bola\", \"carro\", \"pião\"]\n",
        "print(lista2)\n",
        "#lista de listas\n",
        "listas = [lista, lista2]\n",
        "print(listas)\n",
        "#lista heterogênea\n",
        "lmista = [10, 'bola', 7.5, lista2]\n",
        "print(lmista)\n",
        "#lista vazia\n",
        "lista3 = []\n",
        "lst = list()\n",
        "print(lista3)\n"
      ],
      "metadata": {
        "colab": {
          "base_uri": "https://localhost:8080/"
        },
        "id": "CccaUePbUlr0",
        "outputId": "72d8fba2-7256-41ee-9fcf-272e3a2bc015"
      },
      "execution_count": null,
      "outputs": [
        {
          "output_type": "stream",
          "name": "stdout",
          "text": [
            "[2, 4, 6, 3, 6]\n",
            "['bola', 'carro', 'pião']\n",
            "[[2, 4, 6, 3, 6], ['bola', 'carro', 'pião']]\n",
            "[10, 'bola', 7.5, ['bola', 'carro', 'pião']]\n",
            "[]\n"
          ]
        }
      ]
    },
    {
      "cell_type": "markdown",
      "source": [
        "## 1.2.1 Obtendo o tamanho de uma lista\n",
        "\n",
        "Para obtermos o tamanho de qualquer lista, basta usarmos a função ***len()***"
      ],
      "metadata": {
        "id": "_iXLQUegVrs3"
      }
    },
    {
      "cell_type": "code",
      "source": [
        "lista = [2, 4, 6, 3, 6] #lista de inteiros\n",
        "tam = len(lista) #retorna o tamanho da lista\n",
        "print(f\"a lista {lista} possui {tam} elementos\")"
      ],
      "metadata": {
        "colab": {
          "base_uri": "https://localhost:8080/"
        },
        "id": "IfedHDr1VsnD",
        "outputId": "19d49bb8-5569-4ca9-f9cb-062e9ce061f4"
      },
      "execution_count": null,
      "outputs": [
        {
          "output_type": "stream",
          "name": "stdout",
          "text": [
            "a lista [2, 4, 6, 3, 6] possui 5 elementos\n"
          ]
        }
      ]
    },
    {
      "cell_type": "markdown",
      "source": [
        "## 1.2.2 Usando a função *range()* para gerar listas\n",
        "\n",
        "Podemos usar a função *range()* para geração de listas de inteiros\n",
        "\n",
        "em Python 3.x a função range gera uma sequência de objetos do tipo *iterator*. Para gerar uma lista a partir do range, basta fazer a conversão para objeto do tipo *list* utilizando a função de conversão *list()*\n",
        "\n",
        "# Exemplo: Gerando listas de inteiros\n"
      ],
      "metadata": {
        "id": "QGAEYr_DX2mE"
      }
    },
    {
      "cell_type": "code",
      "source": [
        "lst = list(range(8))\n",
        "print(lst)\n",
        "lst = list(range(2,7))\n",
        "print(lst)\n",
        "lst = list(range(0,50,2))\n",
        "print(lst)"
      ],
      "metadata": {
        "colab": {
          "base_uri": "https://localhost:8080/"
        },
        "id": "By6PrgE_aN2g",
        "outputId": "b697862d-6e08-4cc4-a720-574928c4ce58"
      },
      "execution_count": null,
      "outputs": [
        {
          "output_type": "stream",
          "name": "stdout",
          "text": [
            "[0, 1, 2, 3, 4, 5, 6, 7]\n",
            "[2, 3, 4, 5, 6]\n",
            "[0, 2, 4, 6, 8, 10, 12, 14, 16, 18, 20, 22, 24, 26, 28, 30, 32, 34, 36, 38, 40, 42, 44, 46, 48]\n"
          ]
        }
      ]
    },
    {
      "cell_type": "markdown",
      "source": [
        "## 1.2.3 Acessando elementos da lista\n",
        "\n",
        "Elementos de uma lista podem ser acessados pelo seu índice (inteiro) que representa a posição do elemento no arranjo de dados.\n",
        "\n",
        "A contagem se inicia pelo índice 0 e pode ser feita tanto de modo crescente como por índices decrescentes, ou seja, para acessar o último elemento posso utilizar o índice -1, o penúltimo o índice -2, e assim por diante."
      ],
      "metadata": {
        "id": "Uq9SXSDJP1tA"
      }
    },
    {
      "cell_type": "code",
      "source": [
        "l = list(range(6))\n",
        "print(l[3])\n",
        "print(l[len(l)-1]) #qual o resultado?\n",
        "print(l[-1]) #qual o resultado?\n",
        "print(l[30]) #qual o resultado?\n"
      ],
      "metadata": {
        "id": "8sZbIPY4P57n"
      },
      "execution_count": null,
      "outputs": []
    },
    {
      "cell_type": "markdown",
      "source": [
        "### 1.2.3.1 Atribuições em Listas\n",
        "\n",
        "Listas em python são objetos mutáveis, ou seja, permitem serem alteradas depois de serem criadas.\n",
        "\n",
        "Para fazer alterações em elementos da listas basta que os elementos sejam acessados e alterados pelo índice."
      ],
      "metadata": {
        "id": "CkrZKhZSQlln"
      }
    },
    {
      "cell_type": "code",
      "source": [
        "l = list(range(6))\n",
        "l[3] = 8\n",
        "l[-1] = 2\n",
        "print(l)\n",
        "\n",
        "#lista adiciona elementos em posições não existentes?\n",
        "l[len(l)] = 4 #resultado?\n",
        "print(l)"
      ],
      "metadata": {
        "id": "ky9jo89DQqVl"
      },
      "execution_count": null,
      "outputs": []
    },
    {
      "cell_type": "markdown",
      "source": [
        "### 1.2.3.2 Notação *Slice* (fatiamento)\n",
        "\n",
        "O recurso de fatiamento da linguagem Python nos permite acessar e modificar “fatias” da lista:"
      ],
      "metadata": {
        "id": "JMcEloDBSB4r"
      }
    },
    {
      "cell_type": "code",
      "source": [
        "l = list(range(10))\n",
        "print(l[2:8])\n",
        "print(l[2:])\n",
        "print(l[:8])\n",
        "#adicionando elementos\n",
        "l[10:]=[10,11,12]\n",
        "print(l)\n",
        "#removendo elementos\n",
        "l[2:5]=[]\n",
        "print(l)"
      ],
      "metadata": {
        "colab": {
          "base_uri": "https://localhost:8080/"
        },
        "id": "YX8RrSyKSGDh",
        "outputId": "6c803870-918c-44d1-9736-a65e5d2d661c"
      },
      "execution_count": null,
      "outputs": [
        {
          "output_type": "stream",
          "name": "stdout",
          "text": [
            "[2, 3, 4, 5, 6, 7]\n",
            "[2, 3, 4, 5, 6, 7, 8, 9]\n",
            "[0, 1, 2, 3, 4, 5, 6, 7]\n",
            "[0, 1, 2, 3, 4, 5, 6, 7, 8, 9, 10, 11, 12]\n",
            "[0, 1, 5, 6, 7, 8, 9, 10, 11, 12]\n"
          ]
        }
      ]
    },
    {
      "cell_type": "markdown",
      "source": [
        "## 1.2.4 Copiando listas x referenciando a mesma lista\n",
        "\n",
        "Vale lembrar que tudo em Python é objeto, Dessa forma existe uma sintaxe para fazer referência para uma mesma lista com outra variável (o que é conhecido como \"alias\") e uma sintaxe diferente para realizar uma cópia da lista (um objeto diferentes que armazena os mesmos valores da anterior)."
      ],
      "metadata": {
        "id": "p2NaNj6gVF3N"
      }
    },
    {
      "cell_type": "code",
      "source": [
        "l = list(range(10)) #criar lista\n",
        "\n",
        "lst = l #referem-se ao mesmo objeto (“alias” ou apelido)\n",
        "print(lst is l)\n",
        "\n",
        "lst = l[:] # lst recebe o conteúdo da lista, não o objeto\n",
        "print(lst is l)"
      ],
      "metadata": {
        "id": "C_dUqsW4VHoO"
      },
      "execution_count": null,
      "outputs": []
    },
    {
      "cell_type": "markdown",
      "source": [
        "***\n",
        "# 1.3 Iterando listas com o comando *for*\n",
        "\n",
        "Como discutido na última aula, o comando for itera sob sequências de dados.\n",
        "\n",
        "No caso das listas, elas são iteradas item a item.\n",
        "\n",
        "# exemplo: Lendo uma lista de 10 valores\n",
        "\n",
        "Duas possíveis abordagens\n",
        "\n",
        "- 1ª opção: **lista vazia:**"
      ],
      "metadata": {
        "id": "yd67jgRVZvZW"
      }
    },
    {
      "cell_type": "code",
      "source": [
        "lista = []\n",
        "for i in range(10):\n",
        "\titem = int(input(f\"Digite o {i}º elemento da lista:\"))\n",
        "\tlista.append(item) #adiciona no final\n",
        "print(lista)"
      ],
      "metadata": {
        "id": "qikvQvf9Z8cI"
      },
      "execution_count": null,
      "outputs": []
    },
    {
      "cell_type": "markdown",
      "source": [
        "- 2ª opção: **lista criada e valores alterados:**"
      ],
      "metadata": {
        "id": "ZNmw66GOaW7A"
      }
    },
    {
      "cell_type": "code",
      "source": [
        "lista = [0]*10 #ou lista = list(range(10))\n",
        "for i in range(len(lista)):\n",
        "\tlista[i] = int(input(f\"Digite o {i}º elemento da lista:\"))\n",
        "print(lista)"
      ],
      "metadata": {
        "colab": {
          "base_uri": "https://localhost:8080/"
        },
        "id": "L5pT1E34afCg",
        "outputId": "f0e723a0-1619-4558-8abe-d0afd41fd61c"
      },
      "execution_count": null,
      "outputs": [
        {
          "output_type": "stream",
          "name": "stdout",
          "text": [
            "Digite o 0º elemento da lista:1\n",
            "Digite o 1º elemento da lista:5\n",
            "Digite o 2º elemento da lista:10\n",
            "Digite o 3º elemento da lista:15\n",
            "Digite o 4º elemento da lista:25\n",
            "Digite o 5º elemento da lista:35\n",
            "Digite o 6º elemento da lista:45\n",
            "Digite o 7º elemento da lista:50\n",
            "Digite o 8º elemento da lista:67\n",
            "Digite o 9º elemento da lista:78\n",
            "[1, 5, 10, 15, 25, 35, 45, 50, 67, 78]\n"
          ]
        }
      ]
    },
    {
      "cell_type": "markdown",
      "source": [
        "# exemplo: iterando uma lista utilizando o \"*for each*\"\n",
        "\n",
        "O comando for itera sobre sequências.\n",
        "\n",
        "No exemplo a seguir, a variável ***item*** assume o valor de cada de dos elementos da lista a cada iteração:"
      ],
      "metadata": {
        "id": "PJVCaxNaedAB"
      }
    },
    {
      "cell_type": "code",
      "source": [
        "#gerando uma lista com range()\n",
        "lista = list(range(2,10))\n",
        "\n",
        "for item in lista:\n",
        "\titem = item*item\n",
        "\n",
        "print(lista)"
      ],
      "metadata": {
        "id": "oKZzy6HWem4j"
      },
      "execution_count": null,
      "outputs": []
    },
    {
      "cell_type": "markdown",
      "source": [
        "\n",
        "***IMPORTANTE NOTAR:***\n",
        "\n",
        "*item* é uma cópia do elemento da lista, ou seja, as alterações pelas iterações de *item* **não alteram a lista original!**\n",
        "\n",
        "A lista não será alterada pela alteração de *item*\n",
        "\n",
        "Como proceder?\n",
        "\n",
        "- 1ª Opção de correção: **Cópia com alterações**"
      ],
      "metadata": {
        "id": "JxWulXUDfdKA"
      }
    },
    {
      "cell_type": "code",
      "source": [
        "#gera a lista com range\n",
        "lista = list(range(2,10))\n",
        "#cria a cópia vazia\n",
        "cop = []\n",
        "\n",
        "for item in lista:\n",
        "  #adiciona os elementos processados um a um em na lista de cópia\n",
        "\tcop.append(item*item)\n",
        "\n",
        "#exibe as listas original e cópia\n",
        "print(lista)\n",
        "print(cop)"
      ],
      "metadata": {
        "id": "qeC6vG86fhIX"
      },
      "execution_count": null,
      "outputs": []
    },
    {
      "cell_type": "markdown",
      "source": [
        "\n",
        "- 2ª Opção de correção: **Variável de índice e lista original**\n",
        "\t- Geralmente MAIS COMUM E USADO!"
      ],
      "metadata": {
        "id": "c9RJ99TrgkQR"
      }
    },
    {
      "cell_type": "code",
      "source": [
        "#gera a lista com range\n",
        "lista = list(range(2,10))\n",
        "\n",
        "#para um i assumindo os valores dos índices da lista operada\n",
        "for i in range(len(lista)):\n",
        "  #atribui diretamente na lista o resultado do processamento dos itens originais\n",
        "\tlista[i] = lista[i]*lista[i]\n",
        "\n",
        "#exibe a lista alterada.\n",
        "print(lista)"
      ],
      "metadata": {
        "colab": {
          "base_uri": "https://localhost:8080/"
        },
        "id": "mM5L3zn8glt1",
        "outputId": "b88f86a7-673d-4180-fb7c-6d3df29788b5"
      },
      "execution_count": null,
      "outputs": [
        {
          "output_type": "stream",
          "name": "stdout",
          "text": [
            "[4, 9, 16, 25, 36, 49, 64, 81]\n"
          ]
        }
      ]
    },
    {
      "cell_type": "markdown",
      "source": [
        "***\n",
        "## 1.4 Métodos aplicáveis a listas\n",
        "\n",
        "Todo objeto em Python possui métodos aplicáveis. Para saber quais são os métodos aplicáveis a um objeto, pode-se usar o método *dir()*:\n",
        "\n",
        "````\n",
        "l = [] #cria lista. pode ser l = list()\n",
        "dir(l) #observe os métodos aplicáveis\n",
        "````\n",
        "o retorno da função irá nos mostrar, além de vários atributos e métodos privados não acessíveis, um conjunto de métodos públicos que podemos utilizar para processar uma lista. São eles:\n",
        "\n",
        "- 'append', 'clear', 'copy', 'count', 'extend', 'index', 'insert', 'pop', 'remove', 'reverse', 'sort'\n",
        "\n",
        "No caso do desenvolvimento como programador, entender e compreender esses métodos é muito importante e analogo a ter uma \"caixa de ferramentas\" onde possuímos recursos para resolver nossos problemas.\n",
        "\n",
        "Vamos explorar cada um deles a seguir...\n",
        "\n",
        "### 1.4.1 Métodos mutáveis x métodos imutáveis\n",
        "\n",
        "Quando aplicamos métodos sob objetos em python, esses métodos podem ser classificados como mutáveis e imutáveis.\n",
        "\n",
        "- **Mutáveis:** Alteram permanentemente o estado do objeto se aplicados;\n",
        "- **Imutáveis:** Não alteram o estado original do objeto em que foram aplicados, apenas o transformam para que seja feita uma exibição ou atribuição.\n",
        "\n",
        "### 1.4.2 Métodos aplicáveis a Listas\n",
        "\n",
        "- ````append(<item>) ````:\n",
        "\t- Adiciona um item ao fim da lista\n",
        "\t- ````\n",
        "\ta = [1,2] #cria lista\n",
        "\ta.append(3)\n",
        "\tprint(a) ````\n",
        "\n",
        "- ````extend(<list>)````:\n",
        "\t- Prolonga a lista inserindo no final os itens da lista passada como argumento.\n",
        "\t- ````\n",
        "\ta = [1,2]\n",
        "\tx = [3,4]\n",
        "\ta.extend(x) # equivale: “a = a+x” ou “a[-1:]=x”\n",
        "\tprint(a)\n",
        "\n",
        "- ```` insert(<index>, <item>)````:\n",
        "\t- Insere um item na posição especificada pelo parâmetro de índice\n",
        "\t- ````\n",
        "\ta = list(range(10))\n",
        "\ta.insert(2,15) # equivale a “a[2]=15”\n",
        "\tprint a\n",
        "\n",
        "- ````remove(<item>)````:\n",
        "\t- Remove a primeira ocorrência de um item na lista. Se não houver o valor passado como parâmetro na lista, o interpretador retornará uma exceção (erro)\n",
        "\n",
        "\t- ````\n",
        "\t#... exemplo anterior\n",
        "\ta.remove(2)\n",
        "\tprint(a)\n",
        "\n",
        "- ````pop(<index>)````:\n",
        "\t- Remove da lista e retorna o valor do item presente no índice passado como parâmetro. Se não houver índice, retorna o último item da lista (assim como uma estrutura de pilha)\n",
        "\n",
        "\t- ````\n",
        "\t#... exemplo anterior\n",
        "\ta.pop() #As listas em python já implementam pilhas *.*\n",
        "\ta.pop(6)\n",
        "\tprint(a)\n",
        "\n",
        "- ````index(<item>)````:\n",
        "\t- Retorna o índice da primeira ocorrência do item passado como parâmetro\n",
        "\t- ````\n",
        "\t#... exemplo anterior\n",
        "\ta.index(4)\n",
        "\tprint (a)\n",
        "\n",
        "- ````count(x)````:\n",
        "\t- Retorna quantas vezes elementos que possuem o valor x estão contidos na lista\n",
        "\t- ````\n",
        "\tl = [2,3,4,5,2,6,2,3,2,2]\n",
        "\tl.count(2)\n",
        "\tprint(a)\n",
        "\n",
        "- ````sort()```` e ````reverse()````:\n",
        "\t- Respectivamente, ordena e inverte os valores de uma lista. São métodos mutáveis (altera a lista permanentemente)\n",
        "\t- ````\n",
        " \ta = [2,4,1,0,30,6]\n",
        "\ta.sort()\n",
        "\tprint(a)\n",
        "\ta.reverse()\n",
        "\tprint(a)\n",
        "\n",
        "### 1.4.3 Outras funções nativas aplicáveis sobre listas:\n",
        "\n",
        "- ````max(lista)```` : retorna valor máximo\n",
        "- ````min(lista)```` : retorna valor mínimo\n",
        "- ````sum(lista)```` : soma dos valores (se numéricos)\n",
        "- ````sorted(lista)```` : lista ordenada (imutável)\n",
        "- ````del(lista[4])```` : deleta o elemento no índice 4\n",
        "- ````del lista```` : exclui o objeto inteiro\n",
        "- ````[2,3,5] + [6,7]```` : concatena listas\n",
        "- ```` [2,3,4] * 3```` : concatena a mesma lista três vezes\n"
      ],
      "metadata": {
        "id": "5vfqpTAnpPqh"
      }
    },
    {
      "cell_type": "markdown",
      "source": [
        "\n",
        "***\n",
        "# Exercícios\n",
        "\n",
        "1. Escreva um programa que leia uma lista de 10 elementos numéricos e imprima o valor da soma e a média desses valores sem usar a função sum()\n"
      ],
      "metadata": {
        "id": "Rl1KFQLsoI0a"
      }
    },
    {
      "cell_type": "code",
      "source": [],
      "metadata": {
        "id": "rFJV8gn4oYMW"
      },
      "execution_count": null,
      "outputs": []
    },
    {
      "cell_type": "markdown",
      "source": [
        "\n",
        "2. Faça um programa que leia um número n e crie um vetor que armazena os valores dos fatoriais de 0 até n e imprima no final"
      ],
      "metadata": {
        "id": "5J91YQm_oYpR"
      }
    },
    {
      "cell_type": "code",
      "source": [],
      "metadata": {
        "id": "yuy0ub9VocS3"
      },
      "execution_count": null,
      "outputs": []
    },
    {
      "cell_type": "markdown",
      "source": [
        "\n",
        "3. Faça um programa que leia palavras  e crie uma lista de strings e depois adicione em uma lista “filtro” vazia somente as strings que se iniciem por uma letra escolhida pelo usuário.\n"
      ],
      "metadata": {
        "id": "Zb4hxhIsodOf"
      }
    },
    {
      "cell_type": "code",
      "source": [],
      "metadata": {
        "id": "o6DL5AWPojkr"
      },
      "execution_count": null,
      "outputs": []
    },
    {
      "cell_type": "markdown",
      "source": [
        "\n",
        "4. Escreva um programa que receba uma lista de nipes e uma lista de valores e gere a partir da combinação das duas listas uma listas de cartas. Use o baralho tradicional para gerar. ex: valor: ‘A’, nipe: ‘copas’, itemCarta: ‘A de copas’\n"
      ],
      "metadata": {
        "id": "4TZfESYQokVZ"
      }
    },
    {
      "cell_type": "code",
      "source": [],
      "metadata": {
        "id": "SmdRYcTxopnk"
      },
      "execution_count": null,
      "outputs": []
    },
    {
      "cell_type": "markdown",
      "source": [
        "\n",
        "5. Escreva um programa que crie uma lista com todos a sequência de Fibonacci até o termo que seu usuário desejar.\n",
        "\n"
      ],
      "metadata": {
        "id": "gfPqMXY4orDK"
      }
    },
    {
      "cell_type": "code",
      "source": [],
      "metadata": {
        "id": "ncJ8Y0gnouwC"
      },
      "execution_count": null,
      "outputs": []
    },
    {
      "cell_type": "markdown",
      "source": [
        "6. Crie um programa que:\n",
        "- Crie três listas:\n",
        "  - **par** com os números pares de 10 a 200\n",
        "  - **impar** com os números ímpares de 10 a 200\n",
        "  - **nums** que seja união concatenada e ordenada das listas par e impar\n",
        "- dica: use as funções range(), .sort() e .reverse()\n"
      ],
      "metadata": {
        "id": "wORR6Y1UowHa"
      }
    },
    {
      "cell_type": "code",
      "source": [],
      "metadata": {
        "id": "zYsmXHfdpL7W"
      },
      "execution_count": null,
      "outputs": []
    },
    {
      "cell_type": "markdown",
      "source": [
        "\n",
        "8. Crie um programa que leia uma quantidade de números reais informada pelo usuário e armazene-os em uma lista valores.\n",
        "- Em seguida, crie uma lista stats vazia e:\n",
        "  - adicione na lista stats o menor valor da lista\n",
        "  - adicione na lista stats o maior valor da lista\n",
        "  - adicione na lista stats a soma dos elementos da lista\n",
        "  - imprima o conteúdo na lista stats no seguinte padrão:\n",
        "  - ````\n",
        "    “menor valor: ____\n",
        "    maior valor: ___\n",
        "    Soma dos valores: ___”\n",
        "    "
      ],
      "metadata": {
        "id": "fLPs3o9LpUhj"
      }
    },
    {
      "cell_type": "code",
      "source": [],
      "metadata": {
        "id": "KZTqIQ2upy9k"
      },
      "execution_count": null,
      "outputs": []
    },
    {
      "cell_type": "markdown",
      "source": [
        "9. Crie uma lista palavras com dez palavras e em seguida, crie uma nova lista ord com o conteúdo de palavras em ordem alfabética. Crie uma lista inv com o conteúdo de ord em ordem inversa. Imprima as listas palavras, ord e inv:"
      ],
      "metadata": {
        "id": "YPf50mGTpzXL"
      }
    },
    {
      "cell_type": "code",
      "source": [],
      "metadata": {
        "id": "dIn4KLS7p-Oi"
      },
      "execution_count": null,
      "outputs": []
    },
    {
      "cell_type": "markdown",
      "source": [
        "---\n",
        "\n",
        "AVISO: Esse material foi produzido por Prof. Me. Diogo Tavares da Silva e é de sua inteira responsabilidade e propriedade intelectual. Caso queira utilizar ou adaptar em suas aulas, por favor, não deixe de dar os créditos."
      ],
      "metadata": {
        "id": "fEIsZu1xqUDm"
      }
    }
  ]
}