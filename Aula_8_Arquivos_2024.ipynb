{
  "nbformat": 4,
  "nbformat_minor": 0,
  "metadata": {
    "colab": {
      "provenance": [],
      "include_colab_link": true
    },
    "kernelspec": {
      "name": "python3",
      "display_name": "Python 3"
    },
    "language_info": {
      "name": "python"
    }
  },
  "cells": [
    {
      "cell_type": "markdown",
      "metadata": {
        "id": "view-in-github",
        "colab_type": "text"
      },
      "source": [
        "<a href=\"https://colab.research.google.com/github/lucsferreiraalonso/labPraticasIntegradas/blob/main/Aula_8_Arquivos_2024.ipynb\" target=\"_parent\"><img src=\"https://colab.research.google.com/assets/colab-badge.svg\" alt=\"Open In Colab\"/></a>"
      ]
    },
    {
      "cell_type": "markdown",
      "source": [
        "# Aula 8 - Arquivos\n",
        "\n",
        "## 1. Introdução a arquivos\n",
        "\n",
        "Apesar de avaliarmos a importância das estruturas de programação e das estruturas de dados na elaboração dos programas, ainda não analisamos um aspecto crucial:\n",
        "\n",
        "### Qual a função de um programa de computador?\n",
        "### Qual a matéria prima que um software deve processar?\n",
        "\n",
        "Resp:  --> **INFORMAÇÃO** <--\n",
        "\n",
        "... E Não somente informação, mas sim a informação em um formato passível de processamento computacional, ou seja, os dados de um programa.\n",
        "\n",
        "\n",
        "## 1.1 Tipos de informação\n",
        "\n",
        "Quando estamos exexutando um programa, a informação  manipulada pode ser de dois tipos:\n",
        "\n",
        "- **“Volátil”**, **“não durável”**: Os dados estão armazenados em variáveis e estruturas de dados dispostas em memória principal e serão perdidos assim que o programa é finalizado.\n",
        "\n",
        "- **“Não volátil”**, **“durável”**, **“permanente”**: Os dados serão salvos em memória secundária e a informação sobreviverá ao fim da execução de um programa, ou seja, os dados serão armazenados permanentemente em **ARQUIVOS**.\n",
        "\n",
        "## 1.2 O conceito de arquivo\n",
        "\n",
        "Um arquivo é uma abstração lógica oferecida pelo sistema operacional em que dados são organizados e estruturados em memória permanente (secundária) de forma a ser possível seu acesso e manipulação de modo eficiente. de modo prático, um arquivo é um conjunto de áreas no disco onde gravamos (escrevemos) e de onde lemos dados.\n",
        "\n",
        "## 1.3 Tipos de arquivos\n",
        "\n",
        "Geralmente **arquivos sequenciais** (ou seja, lidos como sequências de bits) podem ser de dois tipos:\n",
        "\n",
        "- **Arquivos de texto:** Estruturado caractere a caractere. Pode ser um arquivo de texto simples ou de texto com marcação (XML, JSON, HTML, DOCX).\n",
        "- **Arquivos binários:** Estruturados como sequências de Bytes (BIN, EXE, LAME, JPEG, etc).\n",
        "\n",
        "Uma breve análise sobre: https://www.akitaonrails.com/2021/01/20/akitando-91-qual-a-real-diferenca-entre-arquivos-binario-e-texto\n",
        "\n",
        "### 1.3.1 Arquivos *plaintext*\n",
        "\n",
        "Arquivos de texto (*plaintext*) são uma sequência estruturada de linhas, que contém em cada linha uma sequência de caracteres, sem informações sobre formatação.\n",
        "\n",
        "Cada linha do arquivo é separada por um caracter “\\n” (*newline*) e geralmente para as codificações mais simples (como o ASCII, latin-1 e UTF-8, por exemplo), cada caractere ocupa um byte do arquivo.\n",
        "\n",
        "Na aula de hoje, aprenderemos a ler, escrever e processar informações oriundas de arquivos no formato mais simples, o de *plaintext* (texto plano) e no formato de linguagem de marcação ***JSON***.\n",
        "\n",
        "## 2. Operações sob arquivos de texto em Python\n",
        "\n",
        "## 2.1 Abertura e fechamento de arquivo\n",
        "\n",
        "Para criar ou acessar um arquivo existente primeiro é necessário abrir o arquivo.\n",
        "\n",
        "Para isso usamos o comando:\n",
        "\n",
        "````python\n",
        "var = open(\"caminho_arquivo\",<op>)\n",
        "````\n",
        "\n",
        "onde:\n",
        "\n",
        "- **var** é a variável para um objeto do tipo ````<file>```` que apontará para o arquivo e o manipulará em memória principal.\n",
        "\n",
        "- **“caminho_arquivo”** é o caminho de acesso ao arquivo seguido de seu nome\n",
        "  - caminho relativo, caso o arquivo esteja no mesmo diretório de trabalho do *script*\n",
        "  - ou caminho absoluto, caso contrário\n",
        "\n",
        "- <**op**> : indica que operação será realizada sobre o arquivo.\n",
        "  - 'r' --> leitura;\n",
        "  - 'w' --> escrita;\n",
        "  - 'a' -> append;\n",
        "  - '+' -> atualização (leitura e escrita);\n",
        "  - 'x' -> criação exclusiva\n",
        "\n",
        "E quanto ao fechamento?\n",
        "\n",
        "Para fechar um manipulador de arquivo, basta utilizar o método ````.close()````\n",
        "\n",
        "````python\n",
        "var.close()\n",
        "````\n",
        "\n",
        "\n",
        "### 2.1.1 Abertura com gerenciamento de contexto\n",
        "\n",
        "Um problema recorrente ao se abrir arquivos é esquecer-se de fechá-los. Para garantir o fechamento do arquivo e os possíveis problemas decorrentes de não fechá-lo (travas de recursos) uma opção é utilizar o gerenciamente de contexto com o comando ````with````.\n",
        "\n",
        "Desta forma, ao se encerrar o contexto, o arquivo é fechado automaticamente.\n",
        "\n",
        "sintaxe:\n",
        "\n",
        "````python\n",
        "with open(\"caminho_arquivo\",<op>) as var:\n",
        "  #operações sobre o arquivo\n",
        "````\n",
        "exemplo:"
      ],
      "metadata": {
        "id": "_7S1T1_7sJlS"
      }
    },
    {
      "cell_type": "code",
      "source": [
        "%%file poema.txt\n",
        "E agora, José?\n",
        "A festa acabou,\n",
        "a luz apagou,\n",
        "o povo sumiu,\n",
        "a noite esfriou,\n",
        "e agora, José?\n",
        "e agora, você?\n",
        "você que é sem nome,\n",
        "que zomba dos outros,\n",
        "você que faz versos,\n",
        "que ama, protesta?\n",
        "e agora, José?\n",
        "\n",
        "Está sem mulher,\n",
        "está sem discurso,\n",
        "está sem carinho,\n",
        "já não pode beber,\n",
        "já não pode fumar,\n",
        "cuspir já não pode,\n",
        "a noite esfriou,\n",
        "o dia não veio,\n",
        "o bonde não veio,\n",
        "o riso não veio,\n",
        "não veio a utopia\n",
        "e tudo acabou\n",
        "e tudo fugiu\n",
        "e tudo mofou,\n",
        "e agora, José?\n",
        "\n",
        "E agora, José?\n",
        "Sua doce palavra,\n",
        "seu instante de febre,\n",
        "sua gula e jejum,\n",
        "sua biblioteca,\n",
        "sua lavra de ouro,\n",
        "seu terno de vidro,\n",
        "sua incoerência,\n",
        "seu ódio — e agora?\n",
        "\n",
        "Com a chave na mão\n",
        "quer abrir a porta,\n",
        "não existe porta;\n",
        "quer morrer no mar,\n",
        "mas o mar secou;\n",
        "quer ir para Minas,\n",
        "Minas não há mais.\n",
        "José, e agora?\n",
        "\n",
        "Se você gritasse,\n",
        "se você gemesse,\n",
        "se você tocasse\n",
        "a valsa vienense,\n",
        "se você dormisse,\n",
        "se você cansasse,\n",
        "se você morresse...\n",
        "Mas você não morre,\n",
        "você é duro, José!\n",
        "\n",
        "Sozinho no escuro\n",
        "qual bicho-do-mato,\n",
        "sem teogonia,\n",
        "sem parede nua\n",
        "para se encostar,\n",
        "sem cavalo preto\n",
        "que fuja a galope,\n",
        "você marcha, José!\n",
        "José, para onde?"
      ],
      "metadata": {
        "colab": {
          "base_uri": "https://localhost:8080/"
        },
        "id": "mvthnJM8bBQa",
        "outputId": "6cf336ee-75ec-4151-8ae5-40b9dbc67737"
      },
      "execution_count": null,
      "outputs": [
        {
          "output_type": "stream",
          "name": "stdout",
          "text": [
            "Writing poema.txt\n"
          ]
        }
      ]
    },
    {
      "cell_type": "code",
      "source": [
        "try:\n",
        "  poema = open(\"poema.txt\",\"r\")\n",
        "  #operações sobre o arquivo\n",
        "  poema.close()\n",
        "except:\n",
        "  print(\"Problema com leitura do arquivo!\")\n",
        "\n",
        "\n",
        "#ou abertura com gerência de contexto\n",
        "\n",
        "try:\n",
        "  with open(\"poema.txt\",\"r\") as poema:\n",
        "    #operações sobre o arquivo\n",
        "    pass #não faz nada\n",
        "    #operações sobre o arquivo\n",
        "  #quando sair do with, já fecha automaticamente\n",
        "except:\n",
        "  print(\"Problema com leitura do arquivo!\")\n",
        "\n"
      ],
      "metadata": {
        "id": "PMM7dU_P1dTw"
      },
      "execution_count": null,
      "outputs": []
    },
    {
      "cell_type": "markdown",
      "source": [
        "### ***Observações:***\n",
        "\n",
        "- Se não for declarado nenhum caminho e apenas o nome do arquivo, ele será buscado apenas no diretório em que o programa está.\n",
        "\n",
        " - Se o arquivo for novo e a operação for de escrita, ele será criado, mas todo o caminho deve existir primeiro. Portanto, deve-se criar os diretórios antes\n",
        "\n",
        " - Existem diversas possibilidades de gerar erros durante o acesso, como o caso do arquivo não existir, de tentar-se criar um segundo arquivo com o nome já existente, ou não haver permissão para acessar o arquivo. Nestes casos, indica-se sempre tratar possíveis excessões com cláusulas ````try-except````.\n",
        "\n",
        "\n",
        "\n",
        "Após abrir o arquivo, podemos realizar duas operações:\n",
        "\n",
        "- Ler o arquivo, caso a opção na operação foi ‘r’\n",
        "- Escrever no arquivo, caso a opção de operação foi ‘w ou a’\n",
        "\n",
        "Vamos analisar cada uma das operações a seguir."
      ],
      "metadata": {
        "id": "gjVcUPr-queb"
      }
    },
    {
      "cell_type": "markdown",
      "source": [
        "## 2.2 Leitura de arquivo\n",
        "\n",
        "Após abrir o arquivo, existem três principais opções de métodos para leitura de seu conteúdo:\n",
        "\n",
        "- ````.read()````: Retorna o arquivo todo em uma string\n",
        "- ````.readlines()````: Retorna o arquivo em uma lista de strings, onde cada item é uma linha do arquivo\n",
        "- ````.readLine()````: Lê uma linha por vez, ou seja, retorna uma linha e deixa o manipulador do arquivo apontado para a primeira posição da linha seguinte.\n",
        "\n",
        "Observe os exemplos a seguir:\n"
      ],
      "metadata": {
        "id": "AGForNxuwFzq"
      }
    },
    {
      "cell_type": "code",
      "source": [
        "#Nao se esqueça de fazer o upload do arquivo poema.txt\n",
        "\n",
        "#Opção 1: Todo em uma string\n",
        "try:\n",
        "  with open(\"poema.txt\") as poema:\n",
        "    todo_em_uma_string = poema.read()\n",
        "    print(todo_em_uma_string)\n",
        "except:\n",
        "  print(\"Erro de leitura\")\n"
      ],
      "metadata": {
        "id": "TY-_Ene8xIVW",
        "colab": {
          "base_uri": "https://localhost:8080/"
        },
        "outputId": "9a740418-f407-4a34-c0e6-7f81cab2495b"
      },
      "execution_count": null,
      "outputs": [
        {
          "output_type": "stream",
          "name": "stdout",
          "text": [
            "E agora, José?\n",
            "A festa acabou,\n",
            "a luz apagou,\n",
            "o povo sumiu,\n",
            "a noite esfriou,\n",
            "e agora, José?\n",
            "e agora, você?\n",
            "você que é sem nome,\n",
            "que zomba dos outros,\n",
            "você que faz versos,\n",
            "que ama, protesta?\n",
            "e agora, José?\n",
            "\n",
            "Está sem mulher,\n",
            "está sem discurso,\n",
            "está sem carinho,\n",
            "já não pode beber,\n",
            "já não pode fumar,\n",
            "cuspir já não pode,\n",
            "a noite esfriou,\n",
            "o dia não veio,\n",
            "o bonde não veio,\n",
            "o riso não veio,\n",
            "não veio a utopia\n",
            "e tudo acabou\n",
            "e tudo fugiu\n",
            "e tudo mofou,\n",
            "e agora, José?\n",
            "\n",
            "E agora, José?\n",
            "Sua doce palavra,\n",
            "seu instante de febre,\n",
            "sua gula e jejum,\n",
            "sua biblioteca,\n",
            "sua lavra de ouro,\n",
            "seu terno de vidro,\n",
            "sua incoerência,\n",
            "seu ódio — e agora?\n",
            "\n",
            "Com a chave na mão\n",
            "quer abrir a porta,\n",
            "não existe porta;\n",
            "quer morrer no mar,\n",
            "mas o mar secou;\n",
            "quer ir para Minas,\n",
            "Minas não há mais.\n",
            "José, e agora?\n",
            "\n",
            "Se você gritasse,\n",
            "se você gemesse,\n",
            "se você tocasse\n",
            "a valsa vienense,\n",
            "se você dormisse,\n",
            "se você cansasse,\n",
            "se você morresse...\n",
            "Mas você não morre,\n",
            "você é duro, José!\n",
            "\n",
            "Sozinho no escuro\n",
            "qual bicho-do-mato,\n",
            "sem teogonia,\n",
            "sem parede nua\n",
            "para se encostar,\n",
            "sem cavalo preto\n",
            "que fuja a galope,\n",
            "você marcha, José!\n",
            "José, para onde?\n"
          ]
        }
      ]
    },
    {
      "cell_type": "code",
      "source": [
        "#Opção 2: Lista de linhas\n",
        "\n",
        "try:\n",
        "  with open(\"poema.txt\") as poema:\n",
        "    linhas = poema.readlines()\n",
        "    print(linhas)\n",
        "except:\n",
        "  print(\"Erro de leitura\")"
      ],
      "metadata": {
        "id": "YxhyTvbmCxpk",
        "colab": {
          "base_uri": "https://localhost:8080/"
        },
        "outputId": "d9aec65e-3f7d-41e1-8ce4-ee8ee58dd573"
      },
      "execution_count": null,
      "outputs": [
        {
          "output_type": "stream",
          "name": "stdout",
          "text": [
            "['E agora, José?\\n', 'A festa acabou,\\n', 'a luz apagou,\\n', 'o povo sumiu,\\n', 'a noite esfriou,\\n', 'e agora, José?\\n', 'e agora, você?\\n', 'você que é sem nome,\\n', 'que zomba dos outros,\\n', 'você que faz versos,\\n', 'que ama, protesta?\\n', 'e agora, José?\\n', '\\n', 'Está sem mulher,\\n', 'está sem discurso,\\n', 'está sem carinho,\\n', 'já não pode beber,\\n', 'já não pode fumar,\\n', 'cuspir já não pode,\\n', 'a noite esfriou,\\n', 'o dia não veio,\\n', 'o bonde não veio,\\n', 'o riso não veio,\\n', 'não veio a utopia\\n', 'e tudo acabou\\n', 'e tudo fugiu\\n', 'e tudo mofou,\\n', 'e agora, José?\\n', '\\n', 'E agora, José?\\n', 'Sua doce palavra,\\n', 'seu instante de febre,\\n', 'sua gula e jejum,\\n', 'sua biblioteca,\\n', 'sua lavra de ouro,\\n', 'seu terno de vidro,\\n', 'sua incoerência,\\n', 'seu ódio — e agora?\\n', '\\n', 'Com a chave na mão\\n', 'quer abrir a porta,\\n', 'não existe porta;\\n', 'quer morrer no mar,\\n', 'mas o mar secou;\\n', 'quer ir para Minas,\\n', 'Minas não há mais.\\n', 'José, e agora?\\n', '\\n', 'Se você gritasse,\\n', 'se você gemesse,\\n', 'se você tocasse\\n', 'a valsa vienense,\\n', 'se você dormisse,\\n', 'se você cansasse,\\n', 'se você morresse...\\n', 'Mas você não morre,\\n', 'você é duro, José!\\n', '\\n', 'Sozinho no escuro\\n', 'qual bicho-do-mato,\\n', 'sem teogonia,\\n', 'sem parede nua\\n', 'para se encostar,\\n', 'sem cavalo preto\\n', 'que fuja a galope,\\n', 'você marcha, José!\\n', 'José, para onde?']\n"
          ]
        }
      ]
    },
    {
      "cell_type": "code",
      "source": [
        "#Opção 3: Lendo linha a linha\n",
        "try:\n",
        "  with open(\"poema.txt\") as poema:\n",
        "    linha = poema.readline()\n",
        "    while(linha):\n",
        "      print(linha,end=\"\")\n",
        "      linha = poema.readline()\n",
        "except:\n",
        "  print(\"Erro de leitura\")"
      ],
      "metadata": {
        "id": "hOFeK6Z3C3tn",
        "colab": {
          "base_uri": "https://localhost:8080/"
        },
        "outputId": "37a6ccd9-002e-40dc-d1d6-1bad3335f4cc"
      },
      "execution_count": null,
      "outputs": [
        {
          "output_type": "stream",
          "name": "stdout",
          "text": [
            "E agora, José?\n",
            "A festa acabou,\n",
            "a luz apagou,\n",
            "o povo sumiu,\n",
            "a noite esfriou,\n",
            "e agora, José?\n",
            "e agora, você?\n",
            "você que é sem nome,\n",
            "que zomba dos outros,\n",
            "você que faz versos,\n",
            "que ama, protesta?\n",
            "e agora, José?\n",
            "\n",
            "Está sem mulher,\n",
            "está sem discurso,\n",
            "está sem carinho,\n",
            "já não pode beber,\n",
            "já não pode fumar,\n",
            "cuspir já não pode,\n",
            "a noite esfriou,\n",
            "o dia não veio,\n",
            "o bonde não veio,\n",
            "o riso não veio,\n",
            "não veio a utopia\n",
            "e tudo acabou\n",
            "e tudo fugiu\n",
            "e tudo mofou,\n",
            "e agora, José?\n",
            "\n",
            "E agora, José?\n",
            "Sua doce palavra,\n",
            "seu instante de febre,\n",
            "sua gula e jejum,\n",
            "sua biblioteca,\n",
            "sua lavra de ouro,\n",
            "seu terno de vidro,\n",
            "sua incoerência,\n",
            "seu ódio — e agora?\n",
            "\n",
            "Com a chave na mão\n",
            "quer abrir a porta,\n",
            "não existe porta;\n",
            "quer morrer no mar,\n",
            "mas o mar secou;\n",
            "quer ir para Minas,\n",
            "Minas não há mais.\n",
            "José, e agora?\n",
            "\n",
            "Se você gritasse,\n",
            "se você gemesse,\n",
            "se você tocasse\n",
            "a valsa vienense,\n",
            "se você dormisse,\n",
            "se você cansasse,\n",
            "se você morresse...\n",
            "Mas você não morre,\n",
            "você é duro, José!\n",
            "\n",
            "Sozinho no escuro\n",
            "qual bicho-do-mato,\n",
            "sem teogonia,\n",
            "sem parede nua\n",
            "para se encostar,\n",
            "sem cavalo preto\n",
            "que fuja a galope,\n",
            "você marcha, José!\n",
            "José, para onde?"
          ]
        }
      ]
    },
    {
      "cell_type": "markdown",
      "source": [
        "## 2.3 Escrita de Arquivo\n",
        "\n",
        "Quanto a escrita, podemos usar os seguintes métodos:\n",
        "\n",
        "- ````.write(<str>)````: Escreve o conteúdo da string passada como parâmetro no arquivo\n",
        "\n",
        "- ````.writelines(<list>)````: Escreve o conteúdo das strings contidas na lista de strings passadas como parâmetro no arquivo\n",
        "\n",
        "Seguem exemplos:\n",
        "\n",
        "- criar um arquivo auxiliar com o número de palavras de cada  do poema"
      ],
      "metadata": {
        "id": "7nClhQCGDg8s"
      }
    },
    {
      "cell_type": "code",
      "source": [
        "#Opção 1: Usando write\n",
        "try:\n",
        "  with open(\"poema.txt\") as poema:\n",
        "    linhas = poema.readlines()\n",
        "except:\n",
        "  print(\"Erro de leitura\")\n",
        "\n",
        "#carreguei o conteúdo do arquivo pra lista de linhas\n",
        "#criar um arquivo auxiliar com o número de palavras de cada linha\n",
        "\n",
        "try:\n",
        "  with open(\"caracteres_por_linha.txt\",\"w\") as escrever:\n",
        "    for lin in linhas:\n",
        "      escrever.write(str(len(lin.split()))+\"\\n\")\n",
        "except:\n",
        "  print(\"Erro no arquivo!\")"
      ],
      "metadata": {
        "id": "ktGQZxvTMuUM"
      },
      "execution_count": null,
      "outputs": []
    },
    {
      "cell_type": "code",
      "source": [
        "#Opção 2: Usando .writelines\n",
        "try:\n",
        "  with open(\"poema.txt\") as poema:\n",
        "    linhas = poema.readlines()\n",
        "except:\n",
        "  print(\"Erro de leitura\")\n",
        "\n",
        "#carreguei o conteúdo do arquivo pra lista de linhas\n",
        "#criar um arquivo auxiliar com o número de palavras de cada linha\n",
        "\n",
        "try:\n",
        "  with open(\"caracteres_por_linha.txt\",\"w\") as escrever:\n",
        "    num_palavras = []\n",
        "    for lin in linhas:\n",
        "      num_palavras.append(str(len(lin.split()))+\"\\n\")\n",
        "    escrever.writelines(num_palavras)\n",
        "except:\n",
        "  print(\"Erro no arquivo!\")\n"
      ],
      "metadata": {
        "id": "SFJJdUdxPW3x"
      },
      "execution_count": null,
      "outputs": []
    },
    {
      "cell_type": "markdown",
      "source": [
        "### Importante lembrar!\n",
        "\n",
        "- Toda leitura de um arquivo de texto é recebida como string, assim como um input(). Para manipular outros tipos de dados, deve-se converter o tipo!\n",
        "\n",
        "- Da mesma forma, os métodos de escrita em arquivo salvam a informação como cadeias de caracteres (strings). Deve-se converter (str()) para depois escrever.\n",
        "\n",
        "## 2.4. Deslocando-se no arquivo\n",
        "\n",
        "Uma dupla de métodos importantes para saber alterar a posição em que sua variável aponta no arquivo são os métodos ````.tell()```` e ````.seek()````:\n",
        "\n",
        "- ````.tell()````: Informa em que byte do arquivo a variável está apontando\n",
        "\n",
        "- ````.seek(<pos>)````: Desloca a posição que a variável de arquivo está apontando para a posição passada pelo valor do parâmetro *pos*"
      ],
      "metadata": {
        "id": "Kzq-uxisYH2q"
      }
    },
    {
      "cell_type": "markdown",
      "source": [
        "# 3. Arquivos JSON\n",
        "\n",
        "JSON - *JavaScript Object Notation* - é um formato de troca de dados de dados entre aplicações, assim como XML. Atualmente é considerado melhor e mais amplamente utilizado que o XML. (https://www.w3schools.com/js/js_json_xml.asp)\n",
        "\n",
        "- Referência ao formato JSON:\n",
        "  - https://www.json.org/json-pt.html\n",
        "\n",
        "-Módulo JSON da Biblioteca Padrão Python\n",
        "   - https://docs.python.org/3/library/json.html\n",
        "\n",
        "Observando o formato do serializável JSON podemos observar que a construção é extremamente semelhante às listas e dicionários do python.\n",
        "\n",
        "## 3.1 Lendo e escrevendo strings e arquivos JSON\n",
        "\n",
        "Para utilizar os métodos leitura e escrita de JSON devemos importar o módulo ````json````\n",
        "\n",
        "````python\n",
        "import json\n",
        "````\n",
        "\n",
        "Após isso, as rotinas de codificação e decodificação ficam por conta de 4 métodos:\n",
        "\n",
        "- Geração do “serializável” JSON:\n",
        "  - ````.dump()````: gerar o arquivo .json a partir dos objetos\n",
        "  - ````.dumps()````: gerar a string json a partir dos objetos\n",
        "- Parsing de JSON para o objeto:\n",
        "  - ````.load()````: gera os objetos a partir do arquivo json\n",
        "  - ````.loads()````: gera os objetos a partir da string json\n",
        "\n",
        "### 3.1.1. O método ````.dump()````\n",
        "\n",
        "Usado para serializar os objetos em arquivos. Geralmente listas, dicionários ou listas de dicionários.\n",
        "\n"
      ],
      "metadata": {
        "id": "vzp9bITJdK_n"
      }
    },
    {
      "cell_type": "code",
      "source": [
        "import json\n",
        "ticket = {}\n",
        "ticket[\"data\"] = \"12/11/2024\"\n",
        "ticket[\"hora\"] = \"19:20\"\n",
        "ticket[\"evento\"] = \"Aula de LPI\"\n",
        "ticket[\"local\"] = \"Faculdade Barretos\"\n",
        "ticket[\"duração\"] = 2\n",
        "\n",
        "with open(\"arquivo.json\",\"w\") as esc:\n",
        "  json.dump(ticket,esc,indent = 4, ensure_ascii = False,sort_keys = True)\n",
        "\n"
      ],
      "metadata": {
        "id": "jQbuozSVqywz"
      },
      "execution_count": null,
      "outputs": []
    },
    {
      "cell_type": "markdown",
      "source": [
        "### 3.1.2 O método ````.load()````\n",
        "\n",
        "Usado para fazer o *parsing* do conteúdo do arquivo JSON e retornar os objetos correspondentes:"
      ],
      "metadata": {
        "id": "qCPt9mQwqzZ7"
      }
    },
    {
      "cell_type": "code",
      "source": [
        "import json\n",
        "\n",
        "with open(\"arquivo.json\",\"r\") as ler:\n",
        "  obj = json.load(ler)\n",
        "\n",
        "print(obj)\n",
        "\n"
      ],
      "metadata": {
        "colab": {
          "base_uri": "https://localhost:8080/"
        },
        "id": "2C-AzVvWtsX2",
        "outputId": "5ebd2ee5-c8e4-40fb-94a5-0ed4ce08b920"
      },
      "execution_count": null,
      "outputs": [
        {
          "output_type": "stream",
          "name": "stdout",
          "text": [
            "{'data': '17/10/2023', 'duração': 2, 'evento': 'Aula de LPI', 'hora': '19:20', 'local': 'Faculdade Barretos'}\n"
          ]
        }
      ]
    },
    {
      "cell_type": "markdown",
      "source": [
        "# Desafio de programação:\n",
        "\n",
        "Escreva um programa que leia o arquivo \"poema.txt\" e salve um arquivo json \"analise.json\" para guarde um dicionário que possui como chave cada letra do alfabeto, seguida de uma lista com todas as palavras do poema iniciadas por essa letra. sem repetições."
      ],
      "metadata": {
        "id": "H6Zyk4ghywCn"
      }
    },
    {
      "cell_type": "code",
      "source": [
        "#escrever e executar aqui!"
      ],
      "metadata": {
        "id": "Z8cu9_Ypy11B"
      },
      "execution_count": null,
      "outputs": []
    },
    {
      "cell_type": "markdown",
      "source": [
        "# Exercícios de Fixação\n",
        "\n",
        "1. Escreva um programa que leia um conjunto de valores  de um arquivo e calcule a soma e média destes valores\n",
        "\n",
        "2. Mais além, escreva um programa que leia um conjunto de valores em cada linha do arquivo e escreva um segundo arquivo com a soma desses valores em cada linha\n",
        "\n",
        "3. Escreva um programa que escreva um arquivo “valor.csv” com duas listas x = [1, 2, 3, ... , 1000] e y = x^2+2x+6. com um valor de x e um de y em cada linha separado por vírgulas. *Desafio:* Plote um gráfico usando pandas e alguma biblioteca de visualização, como matplotlib\n",
        "\n",
        "4. Escreva um programa que leia um texto de um arquivo e informe:\n",
        "  - número total de linhas\n",
        "  - número total de palavras\n",
        "  - número total de espaços\n",
        "  - número total de caracteres\n",
        "\n",
        "5. Escreva um programa que leia de um arquivo, para cada linha, duas notas do aluno, e escreva em tela, para cada aluno, “aprovado” se a média das notas foi maior que 7, ou “nos vemos no exame” se a média foi menor que 7.\n",
        "\n",
        "\n",
        "\n"
      ],
      "metadata": {
        "id": "80n_-qqWwqSs"
      }
    },
    {
      "cell_type": "code",
      "source": [
        "#exec 1"
      ],
      "metadata": {
        "id": "zkrnTjmzy6PW"
      },
      "execution_count": null,
      "outputs": []
    },
    {
      "cell_type": "code",
      "source": [
        "#exec 2"
      ],
      "metadata": {
        "id": "oQ6KMMKky7zq"
      },
      "execution_count": null,
      "outputs": []
    },
    {
      "cell_type": "code",
      "source": [
        "#exec 3"
      ],
      "metadata": {
        "id": "0AsVdJ-my8-B"
      },
      "execution_count": null,
      "outputs": []
    },
    {
      "cell_type": "code",
      "source": [
        "#exec 4"
      ],
      "metadata": {
        "id": "d5Bchb-Py-64"
      },
      "execution_count": null,
      "outputs": []
    },
    {
      "cell_type": "code",
      "source": [
        "#exec 5"
      ],
      "metadata": {
        "id": "575YxzzUzADc"
      },
      "execution_count": null,
      "outputs": []
    },
    {
      "cell_type": "markdown",
      "source": [],
      "metadata": {
        "id": "3uj0UKVrJ_Wj"
      }
    },
    {
      "cell_type": "markdown",
      "source": [
        "***\n",
        "AVISO: Esse material foi produzido por Prof. Me. Diogo Tavares da Silva e é de sua inteira responsabilidade e propriedade intelectual. Caso queira utilizar ou adaptar em suas aulas, por favor, não deixe de dar os créditos."
      ],
      "metadata": {
        "id": "gcnXkBykV3uQ"
      }
    }
  ]
}