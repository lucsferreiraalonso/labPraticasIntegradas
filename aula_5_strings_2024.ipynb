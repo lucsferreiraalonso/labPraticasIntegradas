{
  "nbformat": 4,
  "nbformat_minor": 0,
  "metadata": {
    "colab": {
      "provenance": [],
      "include_colab_link": true
    },
    "kernelspec": {
      "name": "python3",
      "display_name": "Python 3"
    },
    "language_info": {
      "name": "python"
    }
  },
  "cells": [
    {
      "cell_type": "markdown",
      "metadata": {
        "id": "view-in-github",
        "colab_type": "text"
      },
      "source": [
        "<a href=\"https://colab.research.google.com/github/lucsferreiraalonso/labPraticasIntegradas/blob/main/aula_5_strings_2024.ipynb\" target=\"_parent\"><img src=\"https://colab.research.google.com/assets/colab-badge.svg\" alt=\"Open In Colab\"/></a>"
      ]
    },
    {
      "cell_type": "markdown",
      "source": [
        "# Aula 5 - *Strings*\n",
        "\n",
        "Strings ou cadeias de caracteres são objetos nativos da linguagem Python utilizados parar armazenar e processar tipos literais (informação textual).\n",
        "\n",
        "A implementação de tipos de dados literais em python é realizada pelo tipo ````<str>````\n",
        "\n",
        "Iremos investigar suas princpais características e aplicações.\n",
        "\n",
        "***\n",
        "## 1. Aplicações de Strings\n",
        "\n",
        "Strings são usadas em uma ampla gama de aplicações, incluindo:\n",
        "\n",
        "- **Processamento de texto:** Strings são usadas para manipular texto, como remover espaços em branco, converter texto para maiúsculas ou minúsculas, e dividir texto em partes.\n",
        "- **Análise de dados:** Strings são usadas para analisar dados de texto, como identificar padrões em dados de texto ou extrair informações de dados de texto.\n",
        "- **Criação de interfaces gráficas:** Strings são usadas para criar interfaces gráficas, como exibir texto em uma tela ou capturar texto de um usuário.\n",
        "\n",
        "\n",
        "***\n",
        "## 2. Criação de Strings\n",
        "\n",
        "Para criar uma string, basta inserir o valor da variável entre aspas simples (' '), duplas (\" \") ou triplas simples (''' ''' ou \"\"\"  \"\"\").\n",
        "\n",
        "Exemplos:\n",
        "\n",
        "````\n",
        "a = 'bola'\n",
        "str = \"palavra\"\n",
        "vazia = \"\"\n",
        "duas_linhas = ''' olá\n",
        "                   mundo '''\n",
        "````\n",
        "\n",
        "## 3. Operações com Strings\n",
        "\n",
        "Em Python, podemos realizar uma variedade de operações com strings, incluindo:\n",
        "\n",
        "* **Concatenação:** A concatenação de strings é a operação de juntar duas ou mais strings.\n",
        "  * Por exemplo, `\"Olá, \" + \"mundo!\"` resulta na string `\"Olá, mundo!\"`.\n",
        "* **Repetições:** A repetição de strings é a operação de repetir uma string um número especificado de vezes.\n",
        "  * Por exemplo, `\"Olá, \" * 3` resulta na string `\"Olá, Olá, Olá, \"`.\n",
        "* **Indexação:** A indexação de strings permite acessar um caractere específico de uma string.\n",
        "  * Por exemplo, `\"Olá, mundo!\"`[0] resulta no caractere `\"O\"`.\n",
        "* **Fatiamento:** O fatiamento de strings permite acessar uma substring, ou seja, uma subseqência de caracteres de uma string.\n",
        "  * Por exemplo, `\"Olá, mundo!\"`[0:5] resulta na substring `\"Olá, \"`.\n",
        "* **Métodos de strings:** Python fornece uma variedade de métodos para manipular strings. veremos a seguir...\n",
        "\n",
        "## 3.1 Métodos em Strings\n",
        "\n",
        "Existe uma variedade muito grande de métodos aplicáveis a strings. É possível visualizar todos utilizando um comando ````dir()```` em um objeto string:"
      ],
      "metadata": {
        "id": "Bvx9aRnkMzyn"
      }
    },
    {
      "cell_type": "code",
      "source": [
        "a = 'bola'\n",
        "string = \"palavra\"\n",
        "vazia = \"\"\n",
        "duas_linhas = ''' olá\n",
        "                   mundo '''\n",
        "print(dir(string))"
      ],
      "metadata": {
        "colab": {
          "base_uri": "https://localhost:8080/"
        },
        "id": "9kSMe4ixM2AH",
        "outputId": "6437842e-ec84-441f-ed64-df9cbb20a948"
      },
      "execution_count": null,
      "outputs": [
        {
          "output_type": "stream",
          "name": "stdout",
          "text": [
            "['__add__', '__class__', '__contains__', '__delattr__', '__dir__', '__doc__', '__eq__', '__format__', '__ge__', '__getattribute__', '__getitem__', '__getnewargs__', '__gt__', '__hash__', '__init__', '__init_subclass__', '__iter__', '__le__', '__len__', '__lt__', '__mod__', '__mul__', '__ne__', '__new__', '__reduce__', '__reduce_ex__', '__repr__', '__rmod__', '__rmul__', '__setattr__', '__sizeof__', '__str__', '__subclasshook__', 'capitalize', 'casefold', 'center', 'count', 'encode', 'endswith', 'expandtabs', 'find', 'format', 'format_map', 'index', 'isalnum', 'isalpha', 'isascii', 'isdecimal', 'isdigit', 'isidentifier', 'islower', 'isnumeric', 'isprintable', 'isspace', 'istitle', 'isupper', 'join', 'ljust', 'lower', 'lstrip', 'maketrans', 'partition', 'removeprefix', 'removesuffix', 'replace', 'rfind', 'rindex', 'rjust', 'rpartition', 'rsplit', 'rstrip', 'split', 'splitlines', 'startswith', 'strip', 'swapcase', 'title', 'translate', 'upper', 'zfill']\n"
          ]
        }
      ]
    },
    {
      "cell_type": "markdown",
      "source": [
        "É importante enxergarmos cada um desses métodos como ferramentas que podemos utilizar para resolver nossos problemas.\n",
        "\n",
        "### 3.1.1. Alterando a caixa das letras\n",
        "\n",
        "Primeiramente vamos aprender a manipular a caixa das letras (maiúscula ou minúscula).\n",
        "\n",
        "É importante saber que são todos métodos imutáveis, ou seja, retornam a visualização da string alterada mas não alteram a string original.\n",
        "\n",
        "Métodos disponíveis:\n",
        "\n",
        "- ````.upper()````: deixa tudo em maiúsculo\n",
        "- ````.lower()````: deixa tudo em minúsculo\n",
        "- ````.capitalize()````: deixa apenas a primeira letra da frase maiúscula\n",
        "- ````.title()````: deixa todas as primeiras letras das palavras maiúsculas\n",
        "- ````.swapcase()````: troca a caixa atual de cada caractere\n",
        "\n",
        "### 3.1.2 Testando a caixa das letras\n",
        "\n",
        "Podemos testar qual a caixa da string atual:\n",
        "\n",
        "- ````.isupper()````: retorna True se a string estiver toda maiúscula e False se contrário\n",
        "- ````.islower()````: retorna True se a string estiver toda minúscula e False se contrário\n",
        "- ````.istitle()````: retorna True se a string estiver todas as letras iniciais das palavras em maiúsculo e False se contrário\n",
        "\n",
        "### 3.1.3 Verificando o conteúdo de uma string\n",
        "\n",
        "Para verificar o conteúdo de uma string:\n",
        "\n",
        "- ````.isdigit()````: verifica se uma string é composta apenas por dígitos\n",
        "- ````.isalpha()````: verifica se uma string é formada apenas por letras\n",
        "- ````.isalnum()````: verifica se a string é composta apenas por caracteres alfanuméricos (sem sinais)\n",
        "- ````.isspace()````: verifica se todos os caracteres da string são espaços\n",
        "\n",
        "### 3.1.4 Buscando ocorrências de substrings\n",
        "\n",
        "Para buscar ocorrências de substrings e verificar o número de ocorrências:\n",
        "- ````.find(<str>)````: Retorna o índice do primeiro caractere da substring <str> na string, retornando “-1” se não houver ocorrência\n",
        "\n",
        "- ````.count(<str>)````: Conta o número de ocorrências da substring  str na string buscada\n",
        "\n",
        "### 3.1.5 Substituindo ocorrências de substrings\n",
        "\n",
        "Para trocar as ocorrências de uma substring por outra:\n",
        "\n",
        "- ````.replace(<str1>,<str2>)````: Substitui todas as ocorrências de str1 por str2 na string aplicada\n",
        "\n",
        "### 3.1.6 Verificando o começo e o final de uma string\n",
        "\n",
        "Muitas vezes é interessante verificar se um string começa ou termina com uma substring específica:\n",
        "\n",
        "- ````.startswith(<str>)````: retorna True se uma string começa com a substring str e False caso contrário\n",
        "- ````.endswith(<str>)````: retorna True se uma string termina com a substring str e False caso contrário\n",
        "\n",
        "### 3.1.7 “Quebrando” e “juntando” strings\n",
        "\n",
        "Muitas vezes é importante quebrar strings em strings menores ou pegar strings menores e agrupá-las em uma única string.\n",
        "\n",
        "- ````.split(<str>)````: Retorna uma lista de substrings com a string original segundo o padrão passado em str.\n",
        "  - Se não houver parâmetro será dividida entre os espaços (“ “ ou “\\b”).\n",
        "  - ````.splitlines()````: Divide a string com base nas linhas (através do caractere “\\n”)\n",
        "\n",
        "- ````.join()````: Recebe como parâmetro uma lista de strings e as agrupa em uma única string usando um padrão de reconstrução.\n",
        "\n"
      ],
      "metadata": {
        "id": "kLLLXUFMRC4t"
      }
    },
    {
      "cell_type": "code",
      "source": [
        "frase = \"DV: -Luke, eu sou seu pai!\\nLuke: -Nããããão!\"\n",
        "print(frase)\n",
        "spaces = frase.split()\n",
        "print(spaces)\n",
        "lines = frase.splitlines()\n",
        "print(lines)\n",
        "traces = frase.split(\"-\")\n",
        "print(traces)\n",
        "str2 = \" \".join(spaces)\n",
        "print(str2)\n",
        "str3 = \"\\n\".join(lines)\n",
        "print(str3)\n",
        "str4 = \"-\".join(traces)\n",
        "print(str4)"
      ],
      "metadata": {
        "colab": {
          "base_uri": "https://localhost:8080/"
        },
        "id": "1koMviMLRE4F",
        "outputId": "96701100-dfb6-4033-f4b7-01c6f8d39c5b"
      },
      "execution_count": null,
      "outputs": [
        {
          "output_type": "stream",
          "name": "stdout",
          "text": [
            "DV: -Luke, eu sou seu pai!\n",
            "Luke: -Nããããão!\n",
            "['DV:', '-Luke,', 'eu', 'sou', 'seu', 'pai!', 'Luke:', '-Nããããão!']\n",
            "['DV: -Luke, eu sou seu pai!', 'Luke: -Nããããão!']\n",
            "['DV: ', 'Luke, eu sou seu pai!\\nLuke: ', 'Nããããão!']\n",
            "DV: -Luke, eu sou seu pai! Luke: -Nããããão!\n",
            "DV: -Luke, eu sou seu pai!\n",
            "Luke: -Nããããão!\n",
            "DV: -Luke, eu sou seu pai!\n",
            "Luke: -Nããããão!\n"
          ]
        }
      ]
    },
    {
      "cell_type": "markdown",
      "source": [
        "### 3.1.8 Ajustando as bordas da string\n",
        "\n",
        "Para ajustar o conteúdo das bordas de uma string retirando caracteres indesejáveis, usa-se ````.strip(<chars>)````\n",
        "\n",
        "Os caracteres passados no parâmetro chars serão removidos das bordas da string:\n"
      ],
      "metadata": {
        "id": "SeXtD4MOG-HB"
      }
    },
    {
      "cell_type": "code",
      "source": [
        "str = '</uma frase qualquer/>'\n",
        "s = str.strip(\"</>\")\n",
        "print(s)\n"
      ],
      "metadata": {
        "colab": {
          "base_uri": "https://localhost:8080/"
        },
        "id": "s9HENUT7Sm0-",
        "outputId": "7e003209-711b-4b59-a351-18e720882a9c"
      },
      "execution_count": null,
      "outputs": [
        {
          "output_type": "stream",
          "name": "stdout",
          "text": [
            "uma frase qualquer\n"
          ]
        }
      ]
    },
    {
      "cell_type": "markdown",
      "source": [
        "Podemos também \"aparar\" caracteres apenas de um dos lados com os métodos ````.rsplit(<chars>)```` (lado direito) e ````.lsplit(<chars>) ````  (lado esquerdo).\n",
        "\n",
        "\n",
        "## 3.2 Formatando strings para impressão\n",
        "\n",
        "Existem diversas possibilidades de formação para exibição e impressão de strings em Python. Utiliza-se o método ````.format()```` e suas variações:\n"
      ],
      "metadata": {
        "id": "fEIsZu1xqUDm"
      }
    },
    {
      "cell_type": "code",
      "source": [
        "#variação 1:\n",
        "nome = 'Juca'\n",
        "alt = 1.78\n",
        "peso = 100.7\n",
        "str = 'Meu nome é {} tenho {}m de alt e peso {}kg'\n",
        "print (str.format(nome,alt,peso))\n",
        "\n",
        "#variação 2:\n",
        "nome = 'Juca'\n",
        "alt = 1.78\n",
        "peso = 100.7\n",
        "str = 'Meu nome é {0} tenho {2}m de alt e peso {1}kg'\n",
        "print (str.format(nome,peso,alt))\n",
        "\n",
        "#variação 3:\n",
        "str = \"Meu nome é {nome} tenho {alt:.1f}m de alt e peso {peso:.1f}kg\"\n",
        "print(str.format(nome = \"Juca\",alt = 1.78, peso = 100.7))\n",
        "\n",
        "#variação 4:\n",
        "nome = 'Juca'\n",
        "alt = 1.78\n",
        "peso = 100.7\n",
        "print(f\"Meu nome é {nome} tenho {alt}m de alt e peso {peso}Kg\")"
      ],
      "metadata": {
        "colab": {
          "base_uri": "https://localhost:8080/"
        },
        "id": "b5kgOM76TrxR",
        "outputId": "639b4cfb-0db5-45d9-fc37-51a337f7d7fa"
      },
      "execution_count": null,
      "outputs": [
        {
          "output_type": "stream",
          "name": "stdout",
          "text": [
            "Meu nome é Juca tenho 1.78m de alt e peso 100.7kg\n",
            "Meu nome é Juca tenho 1.78m de alt e peso 100.7kg\n",
            "Meu nome é Juca tenho 1.8m de alt e peso 100.7kg\n",
            "Meu nome é Juca tenho 1.78m de alt e peso 100.7Kg\n"
          ]
        }
      ]
    },
    {
      "cell_type": "markdown",
      "source": [
        "Mais informações sobre formatação em https://pyformat.info/\n"
      ],
      "metadata": {
        "id": "tsrHRMs3Tq2M"
      }
    },
    {
      "cell_type": "markdown",
      "source": [
        "# Exercícios:\n",
        "\n",
        "1. Escreva um programa que leia uma frase do usuário e imprima quantas palavras e espaços contém a frase\n"
      ],
      "metadata": {
        "id": "HmKMT57FV7AH"
      }
    },
    {
      "cell_type": "code",
      "source": [],
      "metadata": {
        "id": "OzTHYe7tWVAP"
      },
      "execution_count": null,
      "outputs": []
    },
    {
      "cell_type": "markdown",
      "source": [
        "2. Escreva um programa que leia uma string do usuário e informe se a mesma é palíndroma, ou seja, a string invertida é igual a string original:\n"
      ],
      "metadata": {
        "id": "GYQBcgp1WV1q"
      }
    },
    {
      "cell_type": "code",
      "source": [],
      "metadata": {
        "id": "MMQt8APBWeEB"
      },
      "execution_count": null,
      "outputs": []
    },
    {
      "cell_type": "markdown",
      "source": [
        "3. Escreva um programa em padronize o número de espaços de uma frase digitada pelo usuário de modo a ter apenas um espaço entre cada palavra:"
      ],
      "metadata": {
        "id": "eiPSJrgGWf8p"
      }
    },
    {
      "cell_type": "code",
      "source": [],
      "metadata": {
        "id": "8M3xDactWktT"
      },
      "execution_count": null,
      "outputs": []
    },
    {
      "cell_type": "markdown",
      "source": [
        "4. Escreva um programa que conte quantas palavras dentro de um texto passado pelo usuário começam com uma determinada letra que o mesmo escolher:"
      ],
      "metadata": {
        "id": "PWXdqB39WlOm"
      }
    },
    {
      "cell_type": "code",
      "source": [],
      "metadata": {
        "id": "wFMQb7MTWwkg"
      },
      "execution_count": null,
      "outputs": []
    },
    {
      "cell_type": "markdown",
      "source": [
        "***\n",
        "AVISO: Esse material foi produzido por Prof. Me. Diogo Tavares da Silva e é de sua inteira responsabilidade e propriedade intelectual. Caso queira utilizar ou adaptar em suas aulas, por favor, não deixe de dar os créditos."
      ],
      "metadata": {
        "id": "gcnXkBykV3uQ"
      }
    }
  ]
}