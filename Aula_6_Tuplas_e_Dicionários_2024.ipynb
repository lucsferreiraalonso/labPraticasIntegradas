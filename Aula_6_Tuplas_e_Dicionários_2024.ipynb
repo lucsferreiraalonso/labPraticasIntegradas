{
  "nbformat": 4,
  "nbformat_minor": 0,
  "metadata": {
    "colab": {
      "provenance": [],
      "cell_execution_strategy": "setup",
      "include_colab_link": true
    },
    "kernelspec": {
      "name": "python3",
      "display_name": "Python 3"
    },
    "language_info": {
      "name": "python"
    }
  },
  "cells": [
    {
      "cell_type": "markdown",
      "metadata": {
        "id": "view-in-github",
        "colab_type": "text"
      },
      "source": [
        "<a href=\"https://colab.research.google.com/github/lucsferreiraalonso/labPraticasIntegradas/blob/main/Aula_6_Tuplas_e_Dicion%C3%A1rios_2024.ipynb\" target=\"_parent\"><img src=\"https://colab.research.google.com/assets/colab-badge.svg\" alt=\"Open In Colab\"/></a>"
      ]
    },
    {
      "cell_type": "markdown",
      "source": [
        "# Aula 6 - Tuplas e Dicionários\n",
        "\n",
        "## 1. Tuplas\n",
        "\n",
        "Em Python, as listas são objetos com grande poder de processamento.\n",
        "Porém, às vezes tanto poder atrapalha.\n",
        "\n",
        "Por exemplo, você pode querer usar estruturas mais \"engessadas\" para manipular objetos que você não deseja ou não deve alterar ou excluir depois de incluídos na coleção de dados.\n",
        "\n",
        "Para atender a essa necessidade, Python fornece as tuplas, que são listas imutáveis.\n",
        "\n",
        "## 1.1 Características das tuplas\n",
        "\n",
        "* Ordenadas: os elementos de uma tupla são mantidos na ordem em que são inseridos.\n",
        "* Indexadas: você pode acessar os elementos de uma tupla usando índices.\n",
        "* Imutáveis: você não pode adicionar, remover ou alterar os elementos de uma tupla depois de criá-la.\n",
        "* Permitem objetos de diversos tipos e itens duplicados.\n",
        "\n",
        "## 1.2 Sintaxe de tuplas\n",
        "\n",
        "Análogo a listas, porém as tuplas são criadas usando parênteses. Por exemplo:\n",
        "\n",
        "```python\n",
        "coord_FB = (-20.5395902, -48.556051)\n",
        "retorno_func = (menor, maior, soma, media)\n",
        "```\n",
        "\n",
        "## 1.3 Métodos aplicáveis\n",
        "\n",
        "Tuplas têm os seguintes métodos aplicáveis:\n",
        "\n",
        "- ````.count()````: Retorna o número de vezes que um determinado elemento aparece na tupla.\n",
        "- ````.index()````: Retorna o índice do primeiro elemento da tupla que é igual a um determinado valor.\n",
        "\n",
        "## 1.4 Operações sobre tuplas\n",
        "\n",
        "Observa-se que:\n",
        "\n",
        "- Tuplas são acessíveis por índices e fatiamento, da mesma forma que as listas.\n",
        "- Tuplas são imutáveis, o que significa que seus elementos não podem ser adicionados, removidos ou alterados.\n",
        "- Não é possível fazer atribuições. Atribuição a tuplas gera erro de tipo.\n",
        "- Tuplas podem ser convertidas em listas usando o método list().\n",
        "\n"
      ],
      "metadata": {
        "id": "Oh_HMbh6i0cJ"
      }
    },
    {
      "cell_type": "code",
      "source": [
        "# Criação de uma tupla\n",
        "tupla = (1, 2, 3, 3)\n",
        "print(tupla)\n",
        "\n",
        "# Acesso a um elemento da tupla por índice\n",
        "print(f\"índice: 0. Conteúdo da tupla: {tupla[0]}\")  # 1\n",
        "\n",
        "# Alteração de um elemento da tupla (gera erro), remova o comentário e execute\n",
        "# tupla[0] = 5\n",
        "\n",
        "# Métodos aplicáveis a tuplas\n",
        "print(tupla.count(3))  # 1\n",
        "print(tupla.index(2))  # 1"
      ],
      "metadata": {
        "colab": {
          "base_uri": "https://localhost:8080/"
        },
        "id": "zQylRJlrr5_S",
        "outputId": "7887a9f7-683a-4ed6-be02-775bffd8b279"
      },
      "execution_count": null,
      "outputs": [
        {
          "output_type": "stream",
          "name": "stdout",
          "text": [
            "(1, 2, 3, 3)\n",
            "índice: 0. Conteúdo da tupla: 1\n",
            "2\n",
            "1\n"
          ]
        }
      ]
    },
    {
      "cell_type": "markdown",
      "source": [
        "## 1.5 Importante observar:\n",
        "\n",
        "O objeto tupla é imutável mas seu conteúdo pode não ser!\n",
        "\n",
        "Se você inserir um objeto mutável (uma lista, por exemplo) em uma tupla, poderá acessar e editar o conteúdo desse objeto acessando adequadamente atráves do índice.\n",
        "\n",
        "exemplo:"
      ],
      "metadata": {
        "id": "ibbXIFZOsdhz"
      }
    },
    {
      "cell_type": "code",
      "source": [
        "# Criação de uma tupla\n",
        "tup = (7, [])\n",
        "print(tup)\n",
        "\n",
        "# Acesso ao conteúdo da lista\n",
        "tup[1].extend([2,3,4,5,6])\n",
        "\n",
        "# Inversão da lista\n",
        "tup[1].reverse()\n",
        "\n",
        "# Impressão da tupla\n",
        "print(tup)\n"
      ],
      "metadata": {
        "colab": {
          "base_uri": "https://localhost:8080/"
        },
        "id": "SiS5QHcLs4L8",
        "outputId": "fb36d766-cf0a-4793-9547-be23db759a00"
      },
      "execution_count": null,
      "outputs": [
        {
          "output_type": "stream",
          "name": "stdout",
          "text": [
            "(7, [])\n",
            "(7, [6, 5, 4, 3, 2])\n"
          ]
        }
      ]
    },
    {
      "cell_type": "markdown",
      "source": [
        "## 2. Dicionários\n",
        "\n",
        "Dicionários são estruturas de dados que permitem armazenar dados relacionados entre si. São compostos por **chaves** e **valores**, de modo que cada chave é associada a um valor.\n",
        "\n",
        "Os objetos dicionário em python são expressos pelo tipo de dado ````<dict>````.\n",
        "\n",
        "# Exemplo: criar um dicionário com três pares chave-valor:"
      ],
      "metadata": {
        "id": "Em40MmfotG5I"
      }
    },
    {
      "cell_type": "code",
      "source": [
        "dic = {\"nome\": \"Fulano\", \"idade\": 21, \"sexo\": \"M\"}\n",
        "print(dic)"
      ],
      "metadata": {
        "id": "05X56ku5uaPk",
        "colab": {
          "base_uri": "https://localhost:8080/"
        },
        "outputId": "b09ab724-baf3-4027-8dd5-2ab77882122c"
      },
      "execution_count": null,
      "outputs": [
        {
          "output_type": "stream",
          "name": "stdout",
          "text": [
            "{'nome': 'Fulano', 'idade': 21, 'sexo': 'M'}\n"
          ]
        }
      ]
    },
    {
      "cell_type": "markdown",
      "source": [
        "## 2.1 Características\n",
        "\n",
        "- **Desordenado:** Dicionários são desordenados, o que significa que os itens não são armazenados na ordem em que são inseridos.\n",
        "- **Indexado**: Dicionários são indexados por meio de chaves, que podem ser de qualquer tipo de dado imutável, como strings, números ou tuplas.\n",
        "- **Mutáveis**: Dicionários são mutáveis, o que significa que seus itens podem ser adicionados, removidos ou alterados.\n",
        "- **Não permite duplicatas**: Dicionários não permitem itens duplicados, pois as chaves devem ser **únicas**.\n",
        "\n"
      ],
      "metadata": {
        "id": "8KWrlNYOwHrs"
      }
    },
    {
      "cell_type": "code",
      "source": [
        "# Criação de um dicionário\n",
        "dic = {\"nome\": \"Fulano\", \"idade\": 21, \"sexo\": \"M\"}\n",
        "\n",
        "# Acesso a um item do dicionário\n",
        "print(dic[\"nome\"])  #Fulano\n",
        "\n",
        "# Alteração de um item do dicionário\n",
        "dic[\"idade\"] = 23\n",
        "\n",
        "# Adição de um item ao dicionário\n",
        "dic[\"cidade\"] = \"São Paulo\" #se a chave não existe é adicionada\n",
        "\n",
        "# Remoção de um item do dicionário\n",
        "del dic[\"sexo\"] #se a chave existe é removida, senão gera erro!\n",
        "\n",
        "# Impressão do dicionário\n",
        "print(dic)\n"
      ],
      "metadata": {
        "colab": {
          "base_uri": "https://localhost:8080/"
        },
        "id": "zzbjC9nCwy5a",
        "outputId": "dbb90c21-dfc2-4951-9e36-2f340aa0b467"
      },
      "execution_count": null,
      "outputs": [
        {
          "output_type": "stream",
          "name": "stdout",
          "text": [
            "Fulano\n",
            "{'nome': 'Fulano', 'idade': 23, 'cidade': 'São Paulo'}\n"
          ]
        }
      ]
    },
    {
      "cell_type": "code",
      "source": [],
      "metadata": {
        "id": "XytVX_uxVeqO"
      },
      "execution_count": null,
      "outputs": []
    },
    {
      "cell_type": "markdown",
      "source": [
        "## 2.2 Métodos aplicáveis\n",
        "\n",
        "Dicionários têm os seguintes métodos aplicáveis:\n",
        "\n",
        "\n",
        "- ````.get()````: Obtém o valor associado a uma chave.\n",
        "- ````.pop()````: Remove um item do dicionário, retornando seu valor.\n",
        "- ````.items()````: Retorna uma lista com pares chave-valor.\n",
        "- ````.keys()````: Retorna uma lista com as chaves do dicionário.\n",
        "- ````.values()````: Retorna uma lista com os valores do dicionário.\n",
        "- ````.popitem()````: Remove e retorna o último item do dicionário.\n",
        "- ````.clear()````: Limpa o dicionário.\n",
        "- ````.copy()````: Cria uma cópia do dicionário.\n",
        "- ````.fromkeys()````: Cria um dicionário com chaves e valores especificados.\n",
        "- ````.setdefault()````: Define o valor associado a uma chave, se ela não existir.\n",
        "- ````.update()````: Atualiza o dicionário com um dicionário especificado.\n",
        "\n",
        "Mais detalhes: https://docs.python.org/pt-br/3/library/stdtypes.html#mapping-types-dict"
      ],
      "metadata": {
        "id": "aOlrckgqxI2h"
      }
    },
    {
      "cell_type": "markdown",
      "source": [
        "## 2.3 Operações sobre dicionários\n",
        "\n",
        "### Realizando leitura de valalores pelo teclado com o laço for:\n",
        "\n"
      ],
      "metadata": {
        "id": "e0kRD9-k0Ust"
      }
    },
    {
      "cell_type": "code",
      "source": [
        "# Criação de um dicionário vazio\n",
        "carro = {\"model\": \"\", \"marca\": \"\", \"km\": 0, \"preço\": 0.0}\n",
        "\n",
        "# Leitura dos valores do teclado\n",
        "for chave in carro: #isso faz percorrer o dicionários pelas chaves\n",
        "    valor = input(f\"{chave}: \")\n",
        "    if chave == \"km\":\n",
        "        carro[chave] = int(valor)\n",
        "    elif chave == \"preço\":\n",
        "        carro[chave] = float(valor)\n",
        "    else:\n",
        "        carro[chave] = valor\n",
        "\n",
        "# Impressão do dicionário\n",
        "print(carro)\n"
      ],
      "metadata": {
        "colab": {
          "base_uri": "https://localhost:8080/"
        },
        "id": "k6Zz1Aml0o7M",
        "outputId": "f0b1398b-079a-41aa-9d1a-131e4b9e6fdb"
      },
      "execution_count": null,
      "outputs": [
        {
          "output_type": "stream",
          "name": "stdout",
          "text": [
            "model: Palio\n",
            "marca: Fiat\n",
            "km: 34567\n",
            "preço: 26789\n",
            "{'model': 'Palio', 'marca': 'Fiat', 'km': 34567, 'preço': 26789.0}\n"
          ]
        }
      ]
    },
    {
      "cell_type": "markdown",
      "source": [
        "### Buscando um valor pela chave:"
      ],
      "metadata": {
        "id": "UKG8Z0cR1KGT"
      }
    },
    {
      "cell_type": "code",
      "source": [
        "# Criação de um dicionário\n",
        "carro = {\"nome\": \"fusca\", \"marca\": \"vw\", \"km\": 234576}\n",
        "\n",
        "# Entrada da chave de busca\n",
        "chave = input(\"Digite a chave de busca: \")\n",
        "\n",
        "#print(carro[chave]) #gera erro de chave, se a mesma não existir\n",
        "\n",
        "#Ao invés disso use o método \"get\" e configure o retorno caso não encontre\n",
        "print(carro.get(chave,\"Chave não encontrada\"))\n",
        "\n",
        "# Tentativa de acesso ao valor pela chave com tratativa de erro\n",
        "try:\n",
        "    print(carro[chave])\n",
        "except KeyError:\n",
        "    print(\"Chave não encontrada\")"
      ],
      "metadata": {
        "colab": {
          "base_uri": "https://localhost:8080/"
        },
        "id": "pKUf0jCI1T4t",
        "outputId": "7677f620-29ff-46d8-f25f-e26242b54f11"
      },
      "execution_count": null,
      "outputs": [
        {
          "output_type": "stream",
          "name": "stdout",
          "text": [
            "Digite a chave de busca: km\n",
            "234576\n",
            "234576\n"
          ]
        }
      ]
    },
    {
      "cell_type": "markdown",
      "source": [
        "### Removendo um valor pela chave:\n"
      ],
      "metadata": {
        "id": "puzvqqV12HBh"
      }
    },
    {
      "cell_type": "code",
      "source": [
        "# Criação de um dicionário\n",
        "carro = {\"nome\": \"fusca\", \"marca\": \"vw\", \"km\": 234576}\n",
        "\n",
        "chave = input(\"Digite a chave que deseja remover:\")\n",
        "\n",
        "#del carro[chave] #gera erro (KeyError) se a chave não existir!\n",
        "\n",
        "#use a função .pop() e configure o retorno caso não encontre\n",
        "\n",
        "print(carro.pop(chave,\"Chave de registro não encontrada!\"))\n",
        "\n",
        "# Tentativa de remoção da chave com tratativa de erro\n",
        "try:\n",
        "    del carro[chave]\n",
        "except KeyError:\n",
        "    print(\"Chave de registro não encontrada\")\n",
        "\n",
        "# Impressão do dicionário\n",
        "print(carro)\n"
      ],
      "metadata": {
        "colab": {
          "base_uri": "https://localhost:8080/"
        },
        "id": "YBIjJSed2SBH",
        "outputId": "4be1b306-b34c-4506-ac36-01bd141bf135"
      },
      "execution_count": null,
      "outputs": [
        {
          "output_type": "stream",
          "name": "stdout",
          "text": [
            "Digite a chave que deseja remover:placa\n",
            "Chave de registro não encontrada!\n",
            "{'nome': 'fusca', 'marca': 'vw', 'km': 234576}\n"
          ]
        }
      ]
    },
    {
      "cell_type": "markdown",
      "source": [
        "### Buscando informações:"
      ],
      "metadata": {
        "id": "9nS4WCNh4Xdu"
      }
    },
    {
      "cell_type": "code",
      "source": [
        "# Criação de um dicionário\n",
        "carro = {\"nome\": \"fusca\", \"marca\": \"vw\", \"km\": 234576}\n",
        "\n",
        "# Impressão das chaves\n",
        "print(carro.keys())\n",
        "\n",
        "# Impressão dos valores\n",
        "print(carro.values())\n",
        "\n",
        "# Impressão dos itens\n",
        "print(carro.items())\n",
        "\n",
        "# Verificação se a chave \"marca\" existe\n",
        "print(\"marca\" in carro.keys())\n",
        "\n",
        "# Verificação se o valor \"fusca\" existe\n",
        "print(\"fusca\" in carro.values())\n"
      ],
      "metadata": {
        "id": "Cz7n5O5m4jiH"
      },
      "execution_count": null,
      "outputs": []
    },
    {
      "cell_type": "markdown",
      "source": [
        "## 2.4 Usando listas de dicionários\n",
        "\n",
        "Um uso muito útil e recorrente para armazenar registros de informações numa estrutura semelhante a uma “matriz” é o uso de listas de dicionários.\n",
        "\n",
        "Para isso, cria-se uma lista de elementos, onde cada elemento é um dicionário.\n",
        "\n",
        "exemplo:"
      ],
      "metadata": {
        "id": "j7GKxQap5sr6"
      }
    },
    {
      "cell_type": "code",
      "source": [
        "# Criação de uma lista de carros\n",
        "carros = [\n",
        "    {\n",
        "        \"nome\": \"fusca\",\n",
        "        \"marca\": \"vw\",\n",
        "        \"km\": 234576,\n",
        "    },\n",
        "    {\n",
        "        \"nome\": \"gol\",\n",
        "        \"marca\": \"vw\",\n",
        "        \"km\": 123456,\n",
        "    },\n",
        "    {\n",
        "        \"nome\": \"corsa\",\n",
        "        \"marca\": \"gm\",\n",
        "        \"km\": 567890,\n",
        "    },\n",
        "]\n",
        "\n",
        "# Acesso ao valor relacionado a chave 'nome' do terceiro objeto dicionário da lista\n",
        "print(carros[2][\"nome\"])"
      ],
      "metadata": {
        "colab": {
          "base_uri": "https://localhost:8080/"
        },
        "id": "JZMQWakr6I-V",
        "outputId": "5a74d064-2cdb-4eda-8fd6-de9c6b3b0e08"
      },
      "execution_count": null,
      "outputs": [
        {
          "output_type": "stream",
          "name": "stdout",
          "text": [
            "corsa\n"
          ]
        }
      ]
    },
    {
      "cell_type": "markdown",
      "source": [
        "Exemplo:\n",
        "\n",
        "Um academia está mantendo um cadastro de todos seus alunos para observar sua evolução ao decorrer do tempo e obter estatísticas.\n",
        "\n",
        "O cadastro  deve conter nome, idade, peso e altura de cada aluno.\n",
        "\n",
        "Com base nisso escreva um programa que salve cada registro de aluno em uma estrutura de dicionário e os agrupe em uma estrutura de lista e em seguida imprima todos os registros de alunos lidos\n"
      ],
      "metadata": {
        "id": "6JWw7f1e6Zpk"
      }
    },
    {
      "cell_type": "code",
      "source": [
        "#sua resposta aqui:\n",
        "\n",
        "\n",
        "\n",
        "\n",
        "\n",
        "\n",
        "\n",
        "\n",
        "\n",
        "\n",
        "\n",
        "\n",
        "\n",
        "\n",
        "\n",
        "\n",
        "\n",
        "\n",
        "\n"
      ],
      "metadata": {
        "id": "GWoAVul57K3u"
      },
      "execution_count": null,
      "outputs": []
    },
    {
      "cell_type": "markdown",
      "source": [
        "Possível resposta:\n",
        "\n",
        "```python\n",
        "# Criação de uma lista para armazenar os registros de alunos\n",
        "alunos = []\n",
        "\n",
        "# Leitura dos registros de alunos\n",
        "while True:\n",
        "    # Entrada dos dados do aluno\n",
        "    nome = input(\"Nome: \")\n",
        "    idade = int(input(\"Idade: \"))\n",
        "    peso = float(input(\"Peso: \"))\n",
        "    altura = float(input(\"Altura: \"))\n",
        "\n",
        "    # Criação do dicionário do registro do aluno\n",
        "    aluno = {\n",
        "        \"nome\": nome,\n",
        "        \"idade\": idade,\n",
        "        \"peso\": peso,\n",
        "        \"altura\": altura,\n",
        "    }\n",
        "\n",
        "    # Adição do registro do aluno na lista\n",
        "    alunos.append(aluno)\n",
        "\n",
        "    # Pergunta se o usuário deseja continuar\n",
        "    continuar = input(\"Deseja continuar? (S/N) \")\n",
        "    if continuar != \"S\":\n",
        "        break\n",
        "\n",
        "# Impressão dos registros de alunos\n",
        "for aluno in alunos:\n",
        "    print(aluno)\n",
        "\n",
        "```\n",
        "\n"
      ],
      "metadata": {
        "id": "MmTMWqji7bma"
      }
    }
  ]
}